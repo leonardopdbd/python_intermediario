{
  "metadata": {
    "kernelspec": {
      "name": "python",
      "display_name": "Python (Pyodide)",
      "language": "python"
    },
    "language_info": {
      "codemirror_mode": {
        "name": "python",
        "version": 3
      },
      "file_extension": ".py",
      "mimetype": "text/x-python",
      "name": "python",
      "nbconvert_exporter": "python",
      "pygments_lexer": "ipython3",
      "version": "3.8"
    }
  },
  "nbformat_minor": 4,
  "nbformat": 4,
  "cells": [
    {
      "cell_type": "markdown",
      "source": "> Projeto Desenvolve <br>\nProgramação Intermediária com Python <br>\nProfa. Camila Laranjeira (mila@projetodesenvolve.com.br) <br>\n\n# 3.9 - Visualização de Dados",
      "metadata": {}
    },
    {
      "cell_type": "markdown",
      "source": "## Exercícios\nVamos trabalhar com as mesmas bases de dados do exercício de Pandas. Aqui estão os links caso você queira baixar novamente, mas recomendo trabalhar com o `wc_formatado.csv` que exportamos na questão Q2 do exercício anterior.\n\n* https://raw.githubusercontent.com/camilalaranjeira/python-intermediario/main/fifa-wc/matches_1930_2022.csv\n* https://raw.githubusercontent.com/camilalaranjeira/python-intermediario/main/fifa-wc/matches_1991_2023.csv\n\nPara relembrar, essas são as colunas do dataframe:\n```\nData columns (total 21 columns):\n #   Column             Non-Null Count  Dtype         \n---  ------             --------------  -----         \n 0   time_1             1312 non-null   string        \n 1   time_2             1312 non-null   string        \n 2   gols_1             1312 non-null   int64         \n 3   gols_2             1312 non-null   int64         \n 4   data               1312 non-null   datetime64[ns]\n 5   ano                1312 non-null   int64         \n 6   país_sede          1312 non-null   string        \n 7   comparecimento     1312 non-null   int64         \n 8   resultado          1312 non-null   string        \n 9   rodada             1312 non-null   category      \n 10  gols_1_detalhes    970 non-null    string        \n 11  gols_2_detalhes    771 non-null    string        \n 12  gols_1_contra      57 non-null     string        \n 13  gols_2_contra      30 non-null     string        \n 14  gols_1_penalti     170 non-null    string        \n 15  gols_2_penalti     119 non-null    string        \n 16  cartao_vermelho_1  59 non-null     string        \n 17  cartao_vermelho_2  65 non-null     string        \n 18  cartao_amarelo_1   834 non-null    string        \n 19  cartao_amarelo_2   857 non-null    string        \n 20  copa               1312 non-null   string \n```",
      "metadata": {
        "vscode": {
          "languageId": "plaintext"
        }
      }
    },
    {
      "cell_type": "markdown",
      "source": "#### Q1.\nRealize todos os imports necessários para executar as três bibliotecas de visualização que conhecemos:\n* Matplotlib (lembre-se do comando mágico)\n* Seaborn\n* Plotly\n\nPara cada uma delas, altere o tema padrão de visualização. ",
      "metadata": {}
    },
    {
      "cell_type": "code",
      "source": "# Imports necessários\nimport matplotlib.pyplot as plt\nimport seaborn as sns\nimport plotly.io as pio\n\n# Comando mágico para exibir gráficos no notebook (se estiver usando Jupyter)\n%matplotlib inline\n\n# 1. Alterando o tema para o Matplotlib\nplt.style.use('ggplot')  # Define o tema ggplot para Matplotlib\n\n# 2. Alterando o tema para o Seaborn\nsns.set_theme(style=\"darkgrid\")  # Define o estilo de tema do Seaborn\n\n# 3. Alterando o tema para o Plotly\npio.templates.default = \"plotly_dark\"  # Define o tema padrão como \"plotly_dark\" para Plotly\n\n# Exemplo de visualização básica para cada biblioteca:\n\n# Matplotlib\nplt.figure(figsize=(6, 4))\nplt.plot([1, 2, 3, 4], [10, 20, 25, 30], label='Exemplo')\nplt.title(\"Gráfico Matplotlib com tema ggplot\")\nplt.legend()\nplt.show()\n\n# Seaborn\nsns.lineplot(x=[1, 2, 3, 4], y=[10, 20, 25, 30])\nplt.title(\"Gráfico Seaborn com tema darkgrid\")\nplt.show()\n\n# Plotly\nimport plotly.graph_objects as go\n\nfig = go.Figure(data=go.Scatter(x=[1, 2, 3, 4], y=[10, 20, 25, 30], mode='lines+markers', name='Exemplo'))\nfig.update_layout(title=\"Gráfico Plotly com tema plotly_dark\")\nfig.show()\n",
      "metadata": {
        "vscode": {
          "languageId": "plaintext"
        },
        "trusted": true
      },
      "outputs": [],
      "execution_count": null
    },
    {
      "cell_type": "markdown",
      "source": "#### Q2.\nSobre os dados de copa do mundo, qual a distribuição de público presente nos jogos? Isso pode ser respondido com um histograma com os dados da coluna `comparecimento`.  \n\nLembre-se que alguns jogos estavam com público 0 incorretamente, que tal remover essas ocorrências para não atrapalhar sua visualzação?\n\nVocê deve implementar essa visualização nas três bibliotecas que vimos:\n* Matplotlib\n* Seaborn\n* Plotly\n\nGaranta que o gráfico tenha pelo menos os atributos de título e rótulos de dimensão.",
      "metadata": {
        "vscode": {
          "languageId": "plaintext"
        }
      }
    },
    {
      "cell_type": "code",
      "source": "import pandas as pd\nimport matplotlib.pyplot as plt\nimport seaborn as sns\nimport plotly.express as px\n\n# Carregar os dados\nurl = \"https://raw.githubusercontent.com/camilalaranjeira/python-intermediario/main/fifa-wc/matches_1930_2022.csv\"\ndf = pd.read_csv(url)\n\n# Filtrar os dados para remover valores de público incorretos (0)\ndf_filtrado = df[df[\"comparecimento\"] > 0]\n\n# Matplotlib\nplt.figure(figsize=(8, 5))\nplt.hist(df_filtrado[\"comparecimento\"], bins=20, color='skyblue', edgecolor='black')\nplt.title(\"Distribuição do Público Presente (Matplotlib)\", fontsize=14)\nplt.xlabel(\"Público Presente\", fontsize=12)\nplt.ylabel(\"Frequência\", fontsize=12)\nplt.grid(axis='y', alpha=0.75)\nplt.show()",
      "metadata": {
        "vscode": {
          "languageId": "plaintext"
        },
        "trusted": true
      },
      "outputs": [],
      "execution_count": null
    },
    {
      "cell_type": "code",
      "source": "import pandas as pd\nimport matplotlib.pyplot as plt\nimport seaborn as sns\nimport plotly.express as px\n\n# Carregar os dados\nurl = \"https://raw.githubusercontent.com/camilalaranjeira/python-intermediario/main/fifa-wc/matches_1930_2022.csv\"\ndf = pd.read_csv(url)\n\n# Filtrar os dados para remover valores de público incorretos (0)\ndf_filtrado = df[df[\"comparecimento\"] > 0]\n\nplt.figure(figsize=(8, 5))\nsns.histplot(data=df_filtrado, x=\"comparecimento\", bins=20, color=\"purple\", kde=True)\nplt.title(\"Distribuição do Público Presente (Seaborn)\", fontsize=14)\nplt.xlabel(\"Público Presente\", fontsize=12)\nplt.ylabel(\"Frequência\", fontsize=12)\nplt.show()",
      "metadata": {
        "vscode": {
          "languageId": "plaintext"
        },
        "trusted": true
      },
      "outputs": [],
      "execution_count": null
    },
    {
      "cell_type": "code",
      "source": "import pandas as pd\nimport matplotlib.pyplot as plt\nimport seaborn as sns\nimport plotly.express as px\n\n# Carregar os dados\nurl = \"https://raw.githubusercontent.com/camilalaranjeira/python-intermediario/main/fifa-wc/matches_1930_2022.csv\"\ndf = pd.read_csv(url)\n\n# Filtrar os dados para remover valores de público incorretos (0)\ndf_filtrado = df[df[\"comparecimento\"] > 0]\n\n# Plotly\nfig = px.histogram(df_filtrado, x=\"comparecimento\", nbins=20, title=\"Distribuição do Público Presente (Plotly)\",\n                   labels={\"comparecimento\": \"Público Presente\"}, color_discrete_sequence=['teal'])\nfig.update_layout(xaxis_title=\"Público Presente\", yaxis_title=\"Frequência\")\nfig.show()",
      "metadata": {
        "vscode": {
          "languageId": "plaintext"
        }
      },
      "outputs": [],
      "execution_count": null
    },
    {
      "cell_type": "markdown",
      "source": "#### Q3.\n\nApresente um gráfico de dispersão (scatter) dos atributos `gols_1` e `gols_2`. Isso representa a relação entre gols feitos e gols tomados por jogo. Há alguma relação interessante entre esses atributos?\n\nPara facilitar a visualização dos dados (já que tem muitos placares repetidos), aplique uma leve distorção aos dados para que cada ponto esteja deslocado aleatoriamente de seu valor original. Código apresentado a seguir\n```python\ngols = wc[['gols_1', 'gols_2']] * np.random.random((len(wc),2))\n```\n\nVocê deve implementar essa visualização nas três bibliotecas que vimos:\n* Matplotlib\n* Seaborn\n* Plotly\n\nGaranta que o gráfico tenha pelo menos os atributos de título e rótulos de dimensão.",
      "metadata": {}
    },
    {
      "cell_type": "code",
      "source": "import pandas as pd\nimport numpy as np\nimport matplotlib.pyplot as plt\nimport seaborn as sns\nimport plotly.express as px\n\n# Carregar os dados\nurl = \"https://raw.githubusercontent.com/camilalaranjeira/python-intermediario/main/fifa-wc/matches_1930_2022.csv\"\nwc = pd.read_csv(url)\n\n# Aplicar leve distorção aos dados\ngols = wc[['gols_1', 'gols_2']] + np.random.random((len(wc), 2))\n\n# Solução com Matplotlib\nplt.figure(figsize=(8, 5))\nplt.scatter(gols['gols_1'], gols['gols_2'], alpha=0.6, color='blue', edgecolors='black')\nplt.title(\"Relação entre Gols Feitos e Gols Tomados (Matplotlib)\", fontsize=14)\nplt.xlabel(\"Gols Feitos\", fontsize=12)\nplt.ylabel(\"Gols Tomados\", fontsize=12)\nplt.grid(alpha=0.5)\nplt.show()\n",
      "metadata": {
        "vscode": {
          "languageId": "plaintext"
        }
      },
      "outputs": [],
      "execution_count": null
    },
    {
      "cell_type": "code",
      "source": "import pandas as pd\nimport numpy as np\nimport matplotlib.pyplot as plt\nimport seaborn as sns\nimport plotly.express as px\n\n# Carregar os dados\nurl = \"https://raw.githubusercontent.com/camilalaranjeira/python-intermediario/main/fifa-wc/matches_1930_2022.csv\"\nwc = pd.read_csv(url)\n\n# Aplicar leve distorção aos dados\ngols = wc[['gols_1', 'gols_2']] + np.random.random((len(wc), 2))\n\n# Solução com Seaborn\nplt.figure(figsize=(8, 5))\nsns.scatterplot(x=gols['gols_1'], y=gols['gols_2'], alpha=0.6, color=\"purple\")\nplt.title(\"Relação entre Gols Feitos e Gols Tomados (Seaborn)\", fontsize=14)\nplt.xlabel(\"Gols Feitos\", fontsize=12)\nplt.ylabel(\"Gols Tomados\", fontsize=12)\nplt.show()\n",
      "metadata": {
        "vscode": {
          "languageId": "plaintext"
        },
        "trusted": true
      },
      "outputs": [],
      "execution_count": null
    },
    {
      "cell_type": "code",
      "source": "import pandas as pd\nimport numpy as np\nimport matplotlib.pyplot as plt\nimport seaborn as sns\nimport plotly.express as px\n\n# Carregar os dados\nurl = \"https://raw.githubusercontent.com/camilalaranjeira/python-intermediario/main/fifa-wc/matches_1930_2022.csv\"\nwc = pd.read_csv(url)\n\n# Aplicar leve distorção aos dados\ngols = wc[['gols_1', 'gols_2']] + np.random.random((len(wc), 2))\n\n# Solução com Plotly\nfig = px.scatter(gols, x=\"gols_1\", y=\"gols_2\", \n                 title=\"Relação entre Gols Feitos e Gols Tomados (Plotly)\",\n                 labels={\"gols_1\": \"Gols Feitos\", \"gols_2\": \"Gols Tomados\"},\n                 opacity=0.6)\nfig.update_traces(marker=dict(color='teal', size=7, line=dict(width=1, color='DarkSlateGrey')))\nfig.show()",
      "metadata": {
        "vscode": {
          "languageId": "plaintext"
        }
      },
      "outputs": [],
      "execution_count": null
    },
    {
      "cell_type": "markdown",
      "source": "#### Q4.\n\nApresente um gráfico de barras com o top 10 países que mais participaram de copas do mundo, onde no eixo x devem estar o nome dos países e no eixo y a contagem de participações. Você deve separar a contagem de participações em copas femininas e masculinas, empilhando as barras de cada informação.\n\nNo exemplo de barras empilhadas da galeria do matplotlib, imagine que a parte azul são as participações do país em copas masculinas, e em laranja as participações femininas:\n* https://matplotlib.org/stable/gallery/lines_bars_and_markers/bar_stacked.html\n\nVocê deve implementar essa visualização nas três bibliotecas que vimos:\n* Matplotlib\n* Seaborn\n* Plotly\n\nGaranta que o gráfico tenha pelo menos os atributos:\n* título\n* rótulos de dimensão.\n* legenda",
      "metadata": {}
    },
    {
      "cell_type": "code",
      "source": "import pandas as pd\nimport matplotlib.pyplot as plt\nimport seaborn as sns\nimport plotly.express as px\n\n# Carregar os dados\nurl_1930_2022 = \"https://raw.githubusercontent.com/camilalaranjeira/python-intermediario/main/fifa-wc/matches_1930_2022.csv\"\nurl_1991_2023 = \"https://raw.githubusercontent.com/camilalaranjeira/python-intermediario/main/fifa-wc/matches_1991_2023.csv\"\n\nmasculinas = pd.read_csv(url_1930_2022)\nfemininas = pd.read_csv(url_1991_2023)\n\n# Contar participações por país\nmasculinas_contagem = masculinas.groupby('time_1')['copa'].nunique()\nfemininas_contagem = femininas.groupby('time_1')['copa'].nunique()\n\n# Combinar os dados em um único DataFrame\nparticipacoes = pd.DataFrame({\n    'Masculinas': masculinas_contagem,\n    'Femininas': femininas_contagem\n}).fillna(0)\n\n# Ordenar pelos países com mais participações no total e selecionar o top 10\nparticipacoes['Total'] = participacoes['Masculinas'] + participacoes['Femininas']\nparticipacoes = participacoes.sort_values('Total', ascending=False).head(10)\n\n# Solução com Matplotlib\nx = participacoes.index\nmasc = participacoes['Masculinas']\nfem = participacoes['Femininas']\n\nplt.figure(figsize=(10, 6))\nplt.bar(x, masc, label='Copas Masculinas', color='blue')\nplt.bar(x, fem, bottom=masc, label='Copas Femininas', color='orange')\nplt.title('Top 10 Países com Mais Participações em Copas do Mundo', fontsize=14)\nplt.xlabel('Países', fontsize=12)\nplt.ylabel('Participações', fontsize=12)\nplt.xticks(rotation=45, ha='right')\nplt.legend()\nplt.tight_layout()\nplt.show()",
      "metadata": {
        "vscode": {
          "languageId": "plaintext"
        }
      },
      "outputs": [],
      "execution_count": null
    },
    {
      "cell_type": "code",
      "source": "import pandas as pd\nimport matplotlib.pyplot as plt\nimport seaborn as sns\nimport plotly.express as px\n\n# Carregar os dados\nurl_1930_2022 = \"https://raw.githubusercontent.com/camilalaranjeira/python-intermediario/main/fifa-wc/matches_1930_2022.csv\"\nurl_1991_2023 = \"https://raw.githubusercontent.com/camilalaranjeira/python-intermediario/main/fifa-wc/matches_1991_2023.csv\"\n\nmasculinas = pd.read_csv(url_1930_2022)\nfemininas = pd.read_csv(url_1991_2023)\n\n# Contar participações por país\nmasculinas_contagem = masculinas.groupby('time_1')['copa'].nunique()\nfemininas_contagem = femininas.groupby('time_1')['copa'].nunique()\n\n# Combinar os dados em um único DataFrame\nparticipacoes = pd.DataFrame({\n    'Masculinas': masculinas_contagem,\n    'Femininas': femininas_contagem\n}).fillna(0)\n\n# Ordenar pelos países com mais participações no total e selecionar o top 10\nparticipacoes['Total'] = participacoes['Masculinas'] + participacoes['Femininas']\nparticipacoes = participacoes.sort_values('Total', ascending=False).head(10)\n\n# Solução com Seaborn\nparticipacoes_reset = participacoes.reset_index().melt(id_vars='time_1', value_vars=['Masculinas', 'Femininas'], \n                                                       var_name='Tipo', value_name='Participações')\n\nplt.figure(figsize=(10, 6))\nsns.barplot(data=participacoes_reset, x='time_1', y='Participações', hue='Tipo', palette=['blue', 'orange'])\nplt.title('Top 10 Países com Mais Participações em Copas do Mundo (Seaborn)', fontsize=14)\nplt.xlabel('Países', fontsize=12)\nplt.ylabel('Participações', fontsize=12)\nplt.xticks(rotation=45, ha='right')\nplt.legend(title='Tipo')\nplt.tight_layout()\nplt.show()\n",
      "metadata": {
        "vscode": {
          "languageId": "plaintext"
        },
        "trusted": true
      },
      "outputs": [],
      "execution_count": null
    },
    {
      "cell_type": "code",
      "source": "import pandas as pd\nimport matplotlib.pyplot as plt\nimport seaborn as sns\nimport plotly.express as px\n\n# Carregar os dados\nurl_1930_2022 = \"https://raw.githubusercontent.com/camilalaranjeira/python-intermediario/main/fifa-wc/matches_1930_2022.csv\"\nurl_1991_2023 = \"https://raw.githubusercontent.com/camilalaranjeira/python-intermediario/main/fifa-wc/matches_1991_2023.csv\"\n\nmasculinas = pd.read_csv(url_1930_2022)\nfemininas = pd.read_csv(url_1991_2023)\n\n# Contar participações por país\nmasculinas_contagem = masculinas.groupby('time_1')['copa'].nunique()\nfemininas_contagem = femininas.groupby('time_1')['copa'].nunique()\n\n# Combinar os dados em um único DataFrame\nparticipacoes = pd.DataFrame({\n    'Masculinas': masculinas_contagem,\n    'Femininas': femininas_contagem\n}).fillna(0)\n\n# Ordenar pelos países com mais participações no total e selecionar o top 10\nparticipacoes['Total'] = participacoes['Masculinas'] + participacoes['Femininas']\nparticipacoes = participacoes.sort_values('Total', ascending=False).head(10)\n\n\n# Solução com Plotly\nfig = px.bar(participacoes_reset, x='time_1', y='Participações', color='Tipo', \n             color_discrete_map={'Masculinas': 'blue', 'Femininas': 'orange'},\n             title='Top 10 Países com Mais Participações em Copas do Mundo (Plotly)',\n             labels={'time_1': 'Países', 'Participações': 'Participações'})\nfig.update_layout(barmode='stack', xaxis_tickangle=-45)\nfig.show()",
      "metadata": {
        "vscode": {
          "languageId": "plaintext"
        },
        "trusted": true
      },
      "outputs": [],
      "execution_count": null
    },
    {
      "cell_type": "markdown",
      "source": "#### Q5.\n\nVamos fazer um compilado com as estatísticas históricas de copas do mundo!\n\nCom a biblioteca de sua preferência você deve criar 4 subplots organizados em um grid de 2 linhas e 2 colunas. Eles devem conter os seguintes gráficos:\n* Linha 1, coluna 1: Gráfico de barras com a quantidade de jogos que aconteceram por ano\n* Linha 1, coluna 2: Gráfico de área (referências a seguir) com o total de gols por ano, separando as informações de `gols_1` e `gols_2` para distinguir gols em casa e do time visitante.\n* Linha 2, coluna 1: Gráfico de área com o total de cartões por ano, separando as informações de cartões amarelos e cartões vermelhos, mas agregando cartões do time 1 ou time 2. Ou seja, uma área com `cartao_amarelo_1 + cartao_amarelo_2` e outra área com `cartao_vermelho_1 + cartao_vermelho_2`.\n* Linha 2, coluna 2: Gráfico de barras com o total de gols contra por ano, somando `gols_contra_1` e `gols_contra_2`.\n\nReferências sobre gráfico de área\n* Matplotlib: https://matplotlib.org/stable/gallery/lines_bars_and_markers/stackplot_demo.html#sphx-glr-gallery-lines-bars-and-markers-stackplot-demo-py\n* Pandas + Matplotlib: https://pandas.pydata.org/docs/reference/api/pandas.DataFrame.plot.area.html\n* Seaborn: https://seaborn.pydata.org/generated/seaborn.objects.Area.html\n* Plotly: https://plotly.com/python/filled-area-plots/",
      "metadata": {}
    },
    {
      "cell_type": "code",
      "source": "import pandas as pd\nimport matplotlib.pyplot as plt\n\n# Carregar os dados\nurl_1930_2022 = \"https://raw.githubusercontent.com/camilalaranjeira/python-intermediario/main/fifa-wc/matches_1930_2022.csv\"\nwc = pd.read_csv(url_1930_2022)\n\n# Preprocessar os dados\nwc['ano'] = pd.to_datetime(wc['data']).dt.year\n\n# Gráfico 1: Jogos por ano\njogos_por_ano = wc.groupby('ano').size()\n\n# Gráfico 2: Gols por ano (separando gols_1 e gols_2)\ngols_por_ano = wc.groupby('ano')[['gols_1', 'gols_2']].sum()\n\n# Gráfico 3: Cartões por ano (somando cartões do time 1 e time 2)\ncartoes_por_ano = wc.groupby('ano').agg({\n    'cartao_amarelo_1': 'sum', 'cartao_amarelo_2': 'sum',\n    'cartao_vermelho_1': 'sum', 'cartao_vermelho_2': 'sum'\n})\ncartoes_por_ano['amarelos'] = cartoes_por_ano['cartao_amarelo_1'] + cartoes_por_ano['cartao_amarelo_2']\ncartoes_por_ano['vermelhos'] = cartoes_por_ano['cartao_vermelho_1'] + cartoes_por_ano['cartao_vermelho_2']\n\n# Gráfico 4: Gols contra por ano (somando gols_contra_1 e gols_contra_2)\ngols_contra_por_ano = wc.groupby('ano').agg({\n    'gols_1_contra': 'sum', 'gols_2_contra': 'sum'\n}).sum(axis=1)\n\n# Criar os subplots\nfig, axs = plt.subplots(2, 2, figsize=(14, 10))\n\n# Gráfico 1: Jogos por ano\naxs[0, 0].bar(jogos_por_ano.index, jogos_por_ano.values, color='blue')\naxs[0, 0].set_title(\"Quantidade de Jogos por Ano\")\naxs[0, 0].set_xlabel(\"Ano\")\naxs[0, 0].set_ylabel(\"Quantidade de Jogos\")\n\n# Gráfico 2: Gols por ano\naxs[0, 1].stackplot(gols_por_ano.index, gols_por_ano['gols_1'], gols_por_ano['gols_2'], \n                    labels=['Gols Casa', 'Gols Visitante'], colors=['blue', 'orange'])\naxs[0, 1].set_title(\"Total de Gols por Ano\")\naxs[0, 1].set_xlabel(\"Ano\")\naxs[0, 1].set_ylabel(\"Gols\")\naxs[0, 1].legend()\n\n# Gráfico 3: Cartões por ano\naxs[1, 0].stackplot(cartoes_por_ano.index, cartoes_por_ano['amarelos'], cartoes_por_ano['vermelhos'], \n                    labels=['Cartões Amarelos', 'Cartões Vermelhos'], colors=['yellow', 'red'])\naxs[1, 0].set_title(\"Total de Cartões por Ano\")\naxs[1, 0].set_xlabel(\"Ano\")\naxs[1, 0].set_ylabel(\"Cartões\")\naxs[1, 0].legend()\n\n# Gráfico 4: Gols contra por ano\naxs[1, 1].bar(gols_contra_por_ano.index, gols_contra_por_ano.values, color='green')\naxs[1, 1].set_title(\"Total de Gols Contra por Ano\")\naxs[1, 1].set_xlabel(\"Ano\")\naxs[1, 1].set_ylabel(\"Gols Contra\")\n\n# Ajustar layout\nplt.tight_layout()\nplt.show()\n",
      "metadata": {
        "vscode": {
          "languageId": "plaintext"
        }
      },
      "outputs": [],
      "execution_count": null
    }
  ]
}