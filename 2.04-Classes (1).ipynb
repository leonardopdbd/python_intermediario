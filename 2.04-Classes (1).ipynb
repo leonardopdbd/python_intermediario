{
  "metadata": {
    "kernelspec": {
      "name": "python",
      "display_name": "Python (Pyodide)",
      "language": "python"
    },
    "language_info": {
      "codemirror_mode": {
        "name": "python",
        "version": 3
      },
      "file_extension": ".py",
      "mimetype": "text/x-python",
      "name": "python",
      "nbconvert_exporter": "python",
      "pygments_lexer": "ipython3",
      "version": "3.8"
    }
  },
  "nbformat_minor": 4,
  "nbformat": 4,
  "cells": [
    {
      "cell_type": "markdown",
      "source": "> Projeto Desenvolve <br>\nProgramação Intermediária com Python <br>\nProfa. Camila Laranjeira (mila@projetodesenvolve.com.br) <br>\n\n# 2.4 - Classes, atributos e métodos",
      "metadata": {}
    },
    {
      "cell_type": "markdown",
      "source": "## Exercícios\n\n#### Q1.\nVamos criar aos pouquinhos uma classe Evento que registra eventos de um calendário. Pra começar, nessa questão você deve:\n\n* Criar uma classe chamada Evento\n* Adicionar um atributo de classe `total_eventos` que será usado para contar o número total de eventos (instâncias de classe) criadas.\n* Implemente o método construtor que deve receber os parâmetros `titulo` (`string`), `data_hora` (`datetime`), `descrição` (`string`). Crie e inicialize um atributo de instância para cada um dos parâmetros citados.\n* O construtor também deve inicializar um atributo de instância `is_concluido = False`. Esse atributo será utilizado mais à frente. \n* No construtor você também deve incrementar o atributo de classe `total_eventos` em 1 a cada nova instância criada.\n\nTeste o seu código criando duas diferentes instâncias de evento (preencha os atributos como quiser) e imprimindo todos os seus atributos (de classe e de instância).\n\n> Consulte [este tutorial biblioteca `datetime`](https://www.w3schools.com/python/python_datetime.asp) caso não esteja familiarizado.",
      "metadata": {}
    },
    {
      "cell_type": "code",
      "source": "from datetime import datetime\n\nclass Evento:\n    # Atributo de classe para contar o número total de eventos\n    total_eventos = 0\n\n    def __init__(self, titulo, data_hora, descricao):\n        # Atributos de instância\n        self.titulo = titulo\n        self.data_hora = data_hora\n        self.descricao = descricao\n        self.is_concluido = False  # Inicializado como False\n\n        # Incrementa o total de eventos a cada nova instância criada\n        Evento.total_eventos += 1\n\n# Teste do código criando duas instâncias de Evento\nevento1 = Evento(\n    titulo=\"Reunião de Projeto\",\n    data_hora=datetime(2024, 11, 14, 14, 30),\n    descricao=\"Discussão sobre o progresso do projeto\"\n)\n\nevento2 = Evento(\n    titulo=\"Aniversário\",\n    data_hora=datetime(2024, 12, 1, 18, 0),\n    descricao=\"Celebração do aniversário\"\n)\n\n# Imprimindo os atributos das instâncias e o total de eventos\nprint(f\"Evento 1: Título={evento1.titulo}, Data/Hora={evento1.data_hora}, Descrição={evento1.descricao}, Concluído={evento1.is_concluido}\")\nprint(f\"Evento 2: Título={evento2.titulo}, Data/Hora={evento2.data_hora}, Descrição={evento2.descricao}, Concluído={evento2.is_concluido}\")\nprint(f\"Total de eventos: {Evento.total_eventos}\")\n",
      "metadata": {
        "vscode": {
          "languageId": "plaintext"
        },
        "trusted": true
      },
      "outputs": [
        {
          "name": "stdout",
          "text": "Evento 1: Título=Reunião de Projeto, Data/Hora=2024-11-14 14:30:00, Descrição=Discussão sobre o progresso do projeto, Concluído=False\nEvento 2: Título=Aniversário, Data/Hora=2024-12-01 18:00:00, Descrição=Celebração do aniversário, Concluído=False\nTotal de eventos: 2\n",
          "output_type": "stream"
        }
      ],
      "execution_count": 1
    },
    {
      "cell_type": "markdown",
      "source": "#### Q2.\nAgora vamos adicionar métodos à nossa classe. Lembre dos diferentes decoradores que aprendemos. Você deve redefinir a classe com os seguintes métodos:\n* Um método `isConcluido()` que avalia se a `data_hora` do evento é menor que `datetime.now()` (a data e hora atual). Em caso positivo, atualiza o atributo de instância `is_concluido` para o valor `True`. \n* Um método de classe `num_eventos()` que retorna o valor do atributo de classe `total_eventos`.\n* Um método estático `valida_evento(nome, data_hora, descricao)` que recebe os atributos de um evento e testa os tipos de cada variável, retornando `True` caso todos estejam corretos e `False` caso contrário. Para o teste, use a função nativa do Python [`isinstance`](https://www.w3schools.com/python/ref_func_isinstance.asp).\n\nPara testar sua classe atualizada:\n* Crie uma instância de Evento com valor passado e chame o método `isConcluido()` para a instância criada. Em seguida imprima o atributo `is_concluido`. \n* Invoque o método de classe `num_eventos()` a partir da classe Evento (ou seja, sem criar nenhuma instância).\n* Chame o método estático `valida_evento()` a partir da classe Evento. Experimente passar valores corretos e incorretos. \n",
      "metadata": {}
    },
    {
      "cell_type": "code",
      "source": "from datetime import datetime\n\nclass Evento:\n    # Atributo de classe para contar o número total de eventos\n    total_eventos = 0\n\n    def __init__(self, titulo, data_hora, descricao):\n        # Atributos de instância\n        self.titulo = titulo\n        self.data_hora = data_hora\n        self.descricao = descricao\n        self.is_concluido = False  # Inicializado como False\n\n        # Incrementa o total de eventos a cada nova instância criada\n        Evento.total_eventos += 1\n\n    def isConcluido(self):\n        \"\"\"Verifica se o evento já foi concluído e atualiza o atributo is_concluido.\"\"\"\n        if self.data_hora < datetime.now():\n            self.is_concluido = True\n\n    @classmethod\n    def num_eventos(cls):\n        \"\"\"Retorna o número total de eventos criados.\"\"\"\n        return cls.total_eventos\n\n    @staticmethod\n    def valida_evento(titulo, data_hora, descricao):\n        \"\"\"\n        Verifica se os tipos dos parâmetros são válidos:\n        - titulo deve ser uma string\n        - data_hora deve ser um objeto datetime\n        - descricao deve ser uma string\n        \"\"\"\n        return (\n            isinstance(titulo, str) and\n            isinstance(data_hora, datetime) and\n            isinstance(descricao, str)\n        )\n\n# Teste da classe Evento\n# 1. Criando uma instância e testando o método isConcluido()\nevento1 = Evento(\n    titulo=\"Reunião de Projeto\",\n    data_hora=datetime(2024, 11, 14, 10, 0),  # Definindo um horário passado para teste\n    descricao=\"Discussão sobre o progresso do projeto\"\n)\n\nevento1.isConcluido()  # Deve marcar como concluído se a data/hora já passou\nprint(f\"Evento concluído: {evento1.is_concluido}\")\n\n# 2. Invocando o método de classe num_eventos() sem criar nova instância\nprint(f\"Total de eventos: {Evento.num_eventos()}\")\n\n# 3. Chamando o método estático valida_evento() com valores corretos e incorretos\n# Valores corretos\nprint(Evento.valida_evento(\"Aniversário\", datetime(2024, 12, 1, 18, 0), \"Celebração do aniversário\"))  # Deve retornar True\n\n# Valores incorretos\nprint(Evento.valida_evento(123, \"2024-12-01\", [\"Descrição inválida\"]))  # Deve retornar False\n",
      "metadata": {
        "vscode": {
          "languageId": "plaintext"
        },
        "trusted": true
      },
      "outputs": [
        {
          "name": "stdout",
          "text": "Evento concluído: True\nTotal de eventos: 1\nTrue\nFalse\n",
          "output_type": "stream"
        }
      ],
      "execution_count": 2
    },
    {
      "cell_type": "markdown",
      "source": "#### Q3.\n\nVamos incluir métodos mágicos! ✨🪄🔮\n\nRedefina a classe incluindo\":\n* Método `__str__` que imprime os atributos do evento na forma `\"Evento: titulo, Data: data_hora, Descrição: descricao, Concluido: is_concluido\"`.\n* Implemente os métodos de comparação `__eq__`, `__ne__`, `__lt__`, `__le__`, `__gt__` e `__ge__` para comparar eventos baseados no atributo `data_hora`. Esses métodos devem comparar duas instâncias de Evento e retornar os resultados apropriados (`True` ou `False`).\n\nPara testar, crie duas instâncias de Evento com datas diferentes. Imprima as instâncias com a função `print()` e apresente o resultado das comparações entre eventos (`==`, `!=`, `<`, `<=`, `>`, `>=`).",
      "metadata": {
        "vscode": {
          "languageId": "plaintext"
        }
      }
    },
    {
      "cell_type": "code",
      "source": "from datetime import datetime\n\nclass Evento:\n    # Atributo de classe para contar o número total de eventos\n    total_eventos = 0\n\n    def __init__(self, titulo, data_hora, descricao):\n        # Atributos de instância\n        self.titulo = titulo\n        self.data_hora = data_hora\n        self.descricao = descricao\n        self.is_concluido = False  # Inicializado como False\n\n        # Incrementa o total de eventos a cada nova instância criada\n        Evento.total_eventos += 1\n\n    def isConcluido(self):\n        \"\"\"Verifica se o evento já foi concluído e atualiza o atributo is_concluido.\"\"\"\n        if self.data_hora < datetime.now():\n            self.is_concluido = True\n\n    @classmethod\n    def num_eventos(cls):\n        \"\"\"Retorna o número total de eventos criados.\"\"\"\n        return cls.total_eventos\n\n    @staticmethod\n    def valida_evento(titulo, data_hora, descricao):\n        \"\"\"\n        Verifica se os tipos dos parâmetros são válidos:\n        - titulo deve ser uma string\n        - data_hora deve ser um objeto datetime\n        - descricao deve ser uma string\n        \"\"\"\n        return (\n            isinstance(titulo, str) and\n            isinstance(data_hora, datetime) and\n            isinstance(descricao, str)\n        )\n\n    def __str__(self):\n        \"\"\"Representação em string do evento.\"\"\"\n        return (\n            f\"Evento: {self.titulo}, Data: {self.data_hora}, \"\n            f\"Descrição: {self.descricao}, Concluido: {self.is_concluido}\"\n        )\n\n    def __eq__(self, other):\n        \"\"\"Verifica se a data/hora do evento é igual à de outro evento.\"\"\"\n        return self.data_hora == other.data_hora\n\n    def __ne__(self, other):\n        \"\"\"Verifica se a data/hora do evento é diferente da de outro evento.\"\"\"\n        return self.data_hora != other.data_hora\n\n    def __lt__(self, other):\n        \"\"\"Verifica se a data/hora do evento é menor que a de outro evento.\"\"\"\n        return self.data_hora < other.data_hora\n\n    def __le__(self, other):\n        \"\"\"Verifica se a data/hora do evento é menor ou igual à de outro evento.\"\"\"\n        return self.data_hora <= other.data_hora\n\n    def __gt__(self, other):\n        \"\"\"Verifica se a data/hora do evento é maior que a de outro evento.\"\"\"\n        return self.data_hora > other.data_hora\n\n    def __ge__(self, other):\n        \"\"\"Verifica se a data/hora do evento é maior ou igual à de outro evento.\"\"\"\n        return self.data_hora >= other.data_hora\n\n# Teste da classe Evento\nevento1 = Evento(\n    titulo=\"Reunião de Projeto\",\n    data_hora=datetime(2024, 11, 14, 10, 0),\n    descricao=\"Discussão sobre o progresso do projeto\"\n)\n\nevento2 = Evento(\n    titulo=\"Aniversário\",\n    data_hora=datetime(2024, 12, 1, 18, 0),\n    descricao=\"Celebração do aniversário\"\n)\n\n# Imprimindo as instâncias com o método __str__\nprint(evento1)\nprint(evento2)\n\n# Comparando as instâncias\nprint(\"evento1 == evento2:\", evento1 == evento2)\nprint(\"evento1 != evento2:\", evento1 != evento2)\nprint(\"evento1 < evento2:\", evento1 < evento2)\nprint(\"evento1 <= evento2:\", evento1 <= evento2)\nprint(\"evento1 > evento2:\", evento1 > evento2)\nprint(\"evento1 >= evento2:\", evento1 >= evento2)\n",
      "metadata": {
        "vscode": {
          "languageId": "plaintext"
        },
        "trusted": true
      },
      "outputs": [
        {
          "name": "stdout",
          "text": "Evento: Reunião de Projeto, Data: 2024-11-14 10:00:00, Descrição: Discussão sobre o progresso do projeto, Concluido: False\nEvento: Aniversário, Data: 2024-12-01 18:00:00, Descrição: Celebração do aniversário, Concluido: False\nevento1 == evento2: False\nevento1 != evento2: True\nevento1 < evento2: True\nevento1 <= evento2: True\nevento1 > evento2: False\nevento1 >= evento2: False\n",
          "output_type": "stream"
        }
      ],
      "execution_count": 3
    },
    {
      "cell_type": "code",
      "source": "",
      "metadata": {
        "trusted": true
      },
      "outputs": [],
      "execution_count": null
    },
    {
      "cell_type": "code",
      "source": "",
      "metadata": {
        "trusted": true
      },
      "outputs": [],
      "execution_count": null
    }
  ]
}