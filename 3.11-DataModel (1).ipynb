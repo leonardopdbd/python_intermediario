{
  "metadata": {
    "kernelspec": {
      "name": "python",
      "display_name": "Python (Pyodide)",
      "language": "python"
    },
    "language_info": {
      "name": "python"
    }
  },
  "nbformat_minor": 4,
  "nbformat": 4,
  "cells": [
    {
      "cell_type": "markdown",
      "source": "> Projeto Desenvolve <br>\nProgramação Intermediária com Python <br>\nProfa. Camila Laranjeira (mila@projetodesenvolve.com.br) <br>\n\n# 3.11 - Data Model",
      "metadata": {}
    },
    {
      "cell_type": "markdown",
      "source": "## Exercícios\n\n#### Q1. `dataclass`\nExercício adaptado de [codechalleng.es/bites/154/](https://codechalleng.es/bites/154/) e [codechalleng.es/bites/320/](https://codechalleng.es/bites/320/).\n\nNeste desafio, você deve escrever uma `dataclass` chamada `Bite` que gerencia 3 atributos: `number`, `title` e `level`. Seus tipos são:\n* `number` - `int`, \n* `title` - `str`, \n* `level` -  classe `Enum` chamada `BiteLevel` com os atributos `Beginner`, `Intermediate`, `Advanced`. \n\nExemplo de dado: `{'number': 154, 'title': 'Escreva uma dataclass', 'level': BiteLevel.Intermediate}`\n\nAs características dessa classe são:\n* O atributo`level` tem um valor padrão `BiteLevel.Beginner`\n* Uma coleção de objetos `Bite` tem que ser ordenável somente pelo atributo `number`\n* Implemente o método especial `__str__` para imprimir o Bite na forma `f'{number} - {title} ({level})'`\n\nTeste sua classe executando o seguinte código:\n```python\nbites = []\nbites.append(Bite(154, 'Escreva uma dataclass', 'Intermediate'))\nbites.append(Bite(1, 'Some n valores'))\nbites.append(Bite(37, 'Reescreva um loop com recursão', 'Intermediate'))\n\nfor b in bites.sort(): print(b)\n# Ordem esperada na saída:\n# 1 - Some n valores (Beginner)\n# 37 - Reescreva um loop com recursão (Intermediate)\n# 154 - Escreva uma dataclass (Intermediate)\n```",
      "metadata": {}
    },
    {
      "cell_type": "code",
      "source": "from dataclasses import dataclass, field\nfrom enum import Enum\n\n# Enum para os níveis de dificuldade\nclass BiteLevel(Enum):\n    Beginner = \"Beginner\"\n    Intermediate = \"Intermediate\"\n    Advanced = \"Advanced\"\n\n# Dataclass para Bite\n@dataclass(order=True)\nclass Bite:\n    number: int\n    title: str\n    level: BiteLevel = field(default=BiteLevel.Beginner)\n\n    def __str__(self):\n        return f\"{self.number} - {self.title} ({self.level.value})\"\n\n# Criando os objetos Bite\nbites = [\n    Bite(154, \"Escreva uma dataclass\", BiteLevel.Intermediate),\n    Bite(1, \"Some n valores\"),\n    Bite(37, \"Reescreva um loop com recursão\", BiteLevel.Intermediate),\n]\n\n# Ordenando os objetos pela propriedade number e imprimindo\nbites.sort()\nfor b in bites:\n    print(b)\n",
      "metadata": {
        "vscode": {
          "languageId": "plaintext"
        }
      },
      "outputs": [],
      "execution_count": null
    },
    {
      "cell_type": "markdown",
      "source": "#### Q2. `Pydantic`\n> Adaptada desse [tutorial de Pydantic](https://github.com/adonath/scipy-2023-pydantic-tutorial/tree/main) criado por [Axel Donath](https://github.com/adonath) e [Nick Langellier](https://github.com/nlangellier).\n\nObserve a seguinte lista de observações da previsão do tempo em Murmansk, Russia.\n```python\ndata_samples = [\n    {\n        \"date\": \"2023-05-20\",\n        \"temperature\": 62.2,\n        \"isCelsius\": False,\n        \"airQualityIndex\": \"24\",\n        \"sunriseTime\": \"01:26\",\n        \"sunsetTime\": \"00:00\",\n    },\n    {\n        \"date\": \"2023-05-21\",\n        \"temperature\": \"64.4\",\n        \"isCelsius\": \"not true\",\n        \"airQualityIndex\": 23,\n        \"sunriseTime\": \"01:10\",\n        \"sunsetTime\": \"00:16\",\n    },\n    {\n        \"date\": \"2023-05-22\",\n        \"temperature\": 14.4,\n        \"airQualityIndex\": 21,\n    },\n]\n```\n\nEscreva um script que calcule e imprima a temperatura média (em Celsius) em Murmansk para as datas fornecidas. Em seu script, você deve incluir um modelo Pydantic que registre com sucesso todos os elementos dados. Note que:\n\n* Algumas amostras estão faltando dados. Você deve decidir quando o atributo pode ter um valor padrão ou quando definí-lo como opcional (`typing.Optional`). \n* Você precisará implementar pelo menos um validador de campo para transformar atributos. Dica: teste primeiro quais vão falhar :)\n\n",
      "metadata": {}
    },
    {
      "cell_type": "code",
      "source": "from typing import Optional\nfrom pydantic import BaseModel, validator\nfrom datetime import time\n\nclass WeatherObservation(BaseModel):\n    date: str\n    temperature: float\n    isCelsius: Optional[bool] = True\n    airQualityIndex: Optional[int] = None\n    sunriseTime: Optional[time] = None\n    sunsetTime: Optional[time] = None\n\n    @validator(\"isCelsius\", pre=True, always=True)\n    def validate_isCelsius(cls, value):\n        if isinstance(value, str):\n            return value.lower() == \"true\"\n        return value\n\n    @validator(\"temperature\", pre=True)\n    def convert_temperature(cls, value, values):\n        is_celsius = values.get(\"isCelsius\", True)\n        if isinstance(value, str):\n            value = float(value)\n        if not is_celsius:\n            # Convert Fahrenheit to Celsius\n            value = (value - 32) * 5.0 / 9.0\n        return value\n\n    @validator(\"airQualityIndex\", pre=True)\n    def validate_airQualityIndex(cls, value):\n        return int(value) if value is not None else None\n\n    @validator(\"sunriseTime\", \"sunsetTime\", pre=True, always=True)\n    def parse_time(cls, value):\n        if value:\n            return time.fromisoformat(value)\n        return None\n\n# Lista de amostras de dados\ndata_samples = [\n    {\n        \"date\": \"2023-05-20\",\n        \"temperature\": 62.2,\n        \"isCelsius\": False,\n        \"airQualityIndex\": \"24\",\n        \"sunriseTime\": \"01:26\",\n        \"sunsetTime\": \"00:00\",\n    },\n    {\n        \"date\": \"2023-05-21\",\n        \"temperature\": \"64.4\",\n        \"isCelsius\": \"not true\",\n        \"airQualityIndex\": 23,\n        \"sunriseTime\": \"01:10\",\n        \"sunsetTime\": \"00:16\",\n    },\n    {\n        \"date\": \"2023-05-22\",\n        \"temperature\": 14.4,\n        \"airQualityIndex\": 21,\n    },\n]\n\n# Validação e processamento dos dados\nobservations = []\nfor sample in data_samples:\n    try:\n        observation = WeatherObservation(**sample)\n        observations.append(observation)\n    except Exception as e:\n        print(f\"Erro ao processar amostra: {sample}, Erro: {e}\")\n\n# Calculando a temperatura média\naverage_temperature = sum(obs.temperature for obs in observations) / len(observations)\nprint(f\"Temperatura média em Celsius: {average_temperature:.2f}°C\")\n",
      "metadata": {
        "vscode": {
          "languageId": "plaintext"
        }
      },
      "outputs": [],
      "execution_count": null
    },
    {
      "cell_type": "markdown",
      "source": "#### Q3\n> Adaptada desse [tutorial de Pydantic](https://github.com/adonath/scipy-2023-pydantic-tutorial/tree/main) criado por [Axel Donath](https://github.com/adonath) e [Nick Langellier](https://github.com/nlangellier).\n\nNa célula a seguir, coletamos dados reais de uma das principais APIs de previsão do tempo, [open-meteo](https://open-meteo.com/en/docs). Não se preocupe em entender esse código, o mais importante é entender o resultado que ele retorna, ilustrado a seguir para uma coleta da temperatura dos últimos 15 dias em Itabira -MG. Caso deseje alterar a cidade de coleta, basta alimentar a latitude e longitude desejada, como nas opções a seguir.\n* Itabira: `'latitude': -19.656655787605846, 'longitude': -43.228922960534476`\n* Bom Despacho: `'latitude': -19.726308457732443, 'longitude': -45.27462803349767`\n\n```python\n{\n  \"latitude\": -19.5,\n  \"longitude\": -43.375,\n  \"generationtime_ms\": 0.01800060272216797,\n  \"utc_offset_seconds\": 0,\n  \"timezone\": \"GMT\",\n  \"timezone_abbreviation\": \"GMT\",\n  \"elevation\": 2.0,\n  \"hourly_units\": {\n    \"time\": \"iso8601\",\n    \"temperature_2m\": \"\\u00b0C\"\n  },\n  \"hourly\": {\n    \"time\": [\n      \"2024-07-19T00:00\",\n      \"2024-07-19T01:00\",\n      \"2024-07-19T02:00\",\n      ...\n    ],\n    \"temperature_2m\": [\n      21.9,\n      20.9,\n      20.0,\n      ... \n    ]\n  }\n}\n```\n\nVocê deve escrever um modelo Pydantic `OpenMeteo` que receba diretamente a resposta dessa API, através do comando:\n```python\ndados = OpenMeteo(**response)\n``` \n\nPara comportar a estrutura hierárquica desse dicionário (é um dicionário com alguns dicionários internos), você deve criar uma classe Pydantic para cada dicionário interno (`HourlyUnits` e `Hourly`), com seus respectivos atributos. Essas classes serão atributos da classe principal `OpenMeteo`, que terá também os outros atributos da resposta (`latitude`, `longitude`, etc.).\n\n",
      "metadata": {}
    },
    {
      "cell_type": "code",
      "source": "import requests, json\n\nurl = 'https://api.open-meteo.com/v1/forecast'\nlat, long = -19.656655787605846, -43.228922960534476\nparams = {'latitude': lat, 'longitude': long, 'elevation': 2,\n          'hourly': 'temperature_2m', 'forecast_days': 15}\nresponse = requests.get(url, params=params).json()\nprint(json.dumps(response, indent=2))",
      "metadata": {
        "vscode": {
          "languageId": "plaintext"
        }
      },
      "outputs": [],
      "execution_count": null
    },
    {
      "cell_type": "code",
      "source": "from typing import List\nfrom pydantic import BaseModel\n\n# Classe para os dados de unidades do tempo\nclass HourlyUnits(BaseModel):\n    time: str\n    temperature_2m: str\n\n# Classe para os dados horários\nclass Hourly(BaseModel):\n    time: List[str]\n    temperature_2m: List[float]\n\n# Classe principal para representar a resposta da API\nclass OpenMeteo(BaseModel):\n    latitude: float\n    longitude: float\n    generationtime_ms: float\n    utc_offset_seconds: int\n    timezone: str\n    timezone_abbreviation: str\n    elevation: float\n    hourly_units: HourlyUnits\n    hourly: Hourly\n\n# Exemplo de resposta da API\nresponse = {\n    \"latitude\": -19.5,\n    \"longitude\": -43.375,\n    \"generationtime_ms\": 0.01800060272216797,\n    \"utc_offset_seconds\": 0,\n    \"timezone\": \"GMT\",\n    \"timezone_abbreviation\": \"GMT\",\n    \"elevation\": 2.0,\n    \"hourly_units\": {\n        \"time\": \"iso8601\",\n        \"temperature_2m\": \"°C\"\n    },\n    \"hourly\": {\n        \"time\": [\n            \"2024-07-19T00:00\",\n            \"2024-07-19T01:00\",\n            \"2024-07-19T02:00\",\n            \"2024-07-19T03:00\",\n        ],\n        \"temperature_2m\": [\n            21.9,\n            20.9,\n            20.0,\n            19.8,\n        ]\n    }\n}\n\n# Validando os dados\ndados = OpenMeteo(**response)\n\n# Exibindo as informações validadas\nprint(dados)\nprint(\"\\nTemperaturas registradas:\", dados.hourly.temperature_2m)\nprint(\"\\nHorários das temperaturas:\", dados.hourly.time)\n",
      "metadata": {
        "vscode": {
          "languageId": "plaintext"
        }
      },
      "outputs": [],
      "execution_count": null
    },
    {
      "cell_type": "markdown",
      "source": "#### Q4. \n\nCom os dados carregados na questão anterior plote um gráfico de linha, com a biblioteca de sua preferência, onde o eixo `x` são os timestamps (data e hora) e o eixo `y` é a temperatura medida.",
      "metadata": {}
    },
    {
      "cell_type": "code",
      "source": "#### Escreva aqui a sua resposta",
      "metadata": {
        "vscode": {
          "languageId": "plaintext"
        }
      },
      "outputs": [],
      "execution_count": null
    }
  ]
}