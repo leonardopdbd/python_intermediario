{
  "metadata": {
    "kernelspec": {
      "name": "python",
      "display_name": "Python (Pyodide)",
      "language": "python"
    },
    "language_info": {
      "codemirror_mode": {
        "name": "python",
        "version": 3
      },
      "file_extension": ".py",
      "mimetype": "text/x-python",
      "name": "python",
      "nbconvert_exporter": "python",
      "pygments_lexer": "ipython3",
      "version": "3.8"
    }
  },
  "nbformat_minor": 4,
  "nbformat": 4,
  "cells": [
    {
      "cell_type": "markdown",
      "source": "> Projeto Desenvolve <br>\nProgramação Intermediária com Python <br>\nProfa. Camila Laranjeira (mila@projetodesenvolve.com.br) <br>\n\n# 2.5 a 2.10 - Pilares da OO",
      "metadata": {}
    },
    {
      "cell_type": "markdown",
      "source": "## Exercícios\n\n#### Q1.\nEssa lista de exercícios terá como base a classe `Evento` criada em exercícios anteriores. Primeiramente criaremos a classe abstrata `EventoABC` com os métodos de instância abstratos `__str__(self)` e `isConcluido(self)`, indicando que todos as subclasses que dela herdarem devem implementar esses métodos.\n\n`EventoABC` também possui os atributos `_titulo` (string) e `_descricao` (string), cujos valores são recebidos e inicializados no construtor da classe. Note a convenção de nomenclatura indicando o caráter privado desses atributos.",
      "metadata": {}
    },
    {
      "cell_type": "code",
      "source": "from abc import ABC, abstractmethod\n\nclass EventoABC(ABC):\n    def __init__(self, titulo: str, descricao: str):\n        \"\"\"\n        Inicializa os atributos da classe abstrata EventoABC.\n\n        :param titulo: Título do evento (string).\n        :param descricao: Descrição do evento (string).\n        \"\"\"\n        self._titulo = titulo\n        self._descricao = descricao\n\n    @abstractmethod\n    def __str__(self):\n        \"\"\"\n        Retorna uma representação em string do evento.\n        Este método deve ser implementado pelas subclasses.\n        \"\"\"\n        pass\n\n    @abstractmethod\n    def isConcluido(self) -> bool:\n        \"\"\"\n        Retorna se o evento foi concluído ou não.\n        Este método deve ser implementado pelas subclasses.\n\n        :return: True se concluído, False caso contrário.\n        \"\"\"\n        pass\n\n\n# Subclasse que herda de EventoABC\nclass EventoConcreto(EventoABC):\n    def __init__(self, titulo: str, descricao: str, concluido: bool):\n        super().__init__(titulo, descricao)\n        self._concluido = concluido\n\n    def __str__(self):\n        return f\"Evento: {self._titulo} - {self._descricao}\"\n\n    def isConcluido(self) -> bool:\n        return self._concluido\n\n\n# Exemplo de uso\nevento = EventoConcreto(\"Reunião\", \"Discussão de metas trimestrais\", False)\nprint(evento)  # Saída: Evento: Reunião - Discussão de metas trimestrais\nprint(evento.isConcluido())  # Saída: False\n",
      "metadata": {
        "vscode": {
          "languageId": "plaintext"
        },
        "trusted": true
      },
      "outputs": [
        {
          "name": "stdout",
          "text": "Evento: Reunião - Discussão de metas trimestrais\nFalse\n",
          "output_type": "stream"
        }
      ],
      "execution_count": 1
    },
    {
      "cell_type": "markdown",
      "source": "#### Q2.\n\nCrie a classe `DataHora` que dará suporte ao registro de eventos de calendário.\n* A classe possui o atributo de instância `_data_hora` (datetime) privado e um atributo de classe `FORMAT` inicializado com a formatação de string aceito para `_data_hora`, ou seja, `FORMAT = '%d/%m/%Y, %H:%M'`.\n* A classe **não possui construtor customizado**. A alteração de seu atributo se dará a partir da propriedade a seguir.\n* Crie a `property` `data_hora` para manipular o atributo `_data_hora`.\n    * O getter da propriedade deve retornar a data como uma string formatada (`%d/%m/%Y, %H:%M`). Use o atributo `FORMAT`. Consulte o [funcionamento do método `strftime`](https://www.programiz.com/python-programming/datetime/strftime).\n    * O setter da propriedade deve receber uma string de data formatada (`%d/%m/%Y, %H:%M`) e implementar um bloco try-except que tenta converter a string em `datetime` e lança um `ValueError` caso a entrada seja inválida. Use o atributo `FORMAT`. Consulte o [funcionamento do método `strptime`](https://www.digitalocean.com/community/tutorials/python-string-to-datetime-strptime).\n* Crie o método de instância `isPassado(self)` que avalia se a `_data_hora` é menor que `datetime.now()` (a data e hora atual) e retorna `True` em caso positivo, e `False` caso contrário.\n* Crie o método de instância `somaDias(self, num_dias)` que recebe um inteiro `num_dias`, soma esse valor ao atributo interno `_data_hora` e retorna a string formatada do resultado da soma (código dado a seguir).   \n```python\ndata_hora_somada = self._data_hora + datetime.timedelta(days=num_dias)\nreturn data_hora_somada.strftime(FORMAT)\n```\n\nTeste a classe `DataHora` com o seguinte código (altere o que for necessário):\n```python\n# instanciando o objeto\ndh = DataHora()\n\n# definindo a data_hora através da propriedade\ndh.data_hora = '05/02/2024, 12:30'\n\n## editando a data_hora através da função somaDias\ndh.data_hora = dh.somaDias(30)\n\n## imprimindo a data_hora editada e se é passado\nprint(dh.data_hora, dh.isPassado())\n```",
      "metadata": {
        "vscode": {
          "languageId": "plaintext"
        }
      }
    },
    {
      "cell_type": "code",
      "source": "import datetime\n\nclass DataHora:\n    FORMAT = '%d/%m/%Y, %H:%M'  # Atributo de classe com a formatação desejada\n\n    def __init__(self):\n        # Atributo de instância _data_hora é inicialmente None\n        self._data_hora = None\n\n    @property\n    def data_hora(self):\n        \"\"\"\n        Getter que retorna a data formatada conforme o atributo FORMAT.\n        \"\"\"\n        return self._data_hora.strftime(self.FORMAT) if self._data_hora else None\n\n    @data_hora.setter\n    def data_hora(self, data_str):\n        \"\"\"\n        Setter que recebe uma string de data formatada (%d/%m/%Y, %H:%M) e tenta converter para datetime.\n        Se a conversão falhar, lança um ValueError.\n        \"\"\"\n        try:\n            self._data_hora = datetime.datetime.strptime(data_str, self.FORMAT)\n        except ValueError:\n            raise ValueError(f\"Formato inválido! A data deve seguir o formato: {self.FORMAT}\")\n\n    def isPassado(self):\n        \"\"\"\n        Método que verifica se a data_hora é no passado em relação à data atual.\n        \"\"\"\n        return self._data_hora < datetime.datetime.now() if self._data_hora else False\n\n    def somaDias(self, num_dias):\n        \"\"\"\n        Método que soma 'num_dias' à data_hora e retorna a data somada como string formatada.\n        \"\"\"\n        if self._data_hora:\n            data_hora_somada = self._data_hora + datetime.timedelta(days=num_dias)\n            return data_hora_somada.strftime(self.FORMAT)\n        else:\n            raise ValueError(\"A data_hora não foi definida ainda.\")\n\n# Teste da classe DataHora\n\n# instanciando o objeto\ndh = DataHora()\n\n# definindo a data_hora através da propriedade\ndh.data_hora = '05/02/2024, 12:30'\n\n# editando a data_hora através da função somaDias\ndh.data_hora = dh.somaDias(30)\n\n# imprimindo a data_hora editada e se é passado\nprint(dh.data_hora, dh.isPassado())\n",
      "metadata": {
        "vscode": {
          "languageId": "plaintext"
        },
        "trusted": true
      },
      "outputs": [
        {
          "name": "stdout",
          "text": "06/03/2024, 12:30 True\n",
          "output_type": "stream"
        }
      ],
      "execution_count": 2
    },
    {
      "cell_type": "markdown",
      "source": "#### Q3.\nCrie a classe `EventoUnico`:\n* A classe deve herdar de `EventoABC`.\n* Possui o atributo de instância `_data_hora` (classe `DataHora` que criamos previamente).\n* Seu construtor deve receber e inicializar os atributos da superclasse, além do valor de `_data_hora` recebido como uma string formatada (`%d/%m/%Y, %H:%M`). Note que para alterar `_data_hora` (objeto tipo `DataHora`), você deve manipular a propriedade interna da classe.\n*  Implementa os métodos abstratos da superclasse:\n    * Método `isConcluido()` que invoca o método `isPassado()` de `_data_hora` e retorna o seu resultado.\n    * Método `__str__` que imprime os atributos do evento na forma `\"Evento: _titulo, Data: _data_hora, Descrição: _descricao, Concluido: isConcluido()\"`. Note que `isConcluido()` é o método de avaliação implementado. \n* Crie o método de instância `editar_data_hora` que recebe uma string formatada e altera `_data_hora` (através de sua propriedade interna).\n    \n    \nTeste a classe `EventoUnico` com o seguinte código:\n```python\n# criar evento\nevento = EventoUnico('Reunião', 'Sala 302, prédio da esquina', '05/10/2023, 16:30')\nprint(evento)\n\n# editar data do evento (através da propriedade)\nevento.editar_data_hora('05/10/2024, 16:30')\nprint(evento)\n```",
      "metadata": {}
    },
    {
      "cell_type": "code",
      "source": "import datetime\n\n# Classe DataHora já criada\nclass DataHora:\n    FORMAT = '%d/%m/%Y, %H:%M'\n\n    def __init__(self):\n        self._data_hora = None\n\n    @property\n    def data_hora(self):\n        return self._data_hora.strftime(self.FORMAT) if self._data_hora else None\n\n    @data_hora.setter\n    def data_hora(self, data_str):\n        try:\n            self._data_hora = datetime.datetime.strptime(data_str, self.FORMAT)\n        except ValueError:\n            raise ValueError(f\"Formato inválido! A data deve seguir o formato: {self.FORMAT}\")\n\n    def isPassado(self):\n        return self._data_hora < datetime.datetime.now() if self._data_hora else False\n\n    def somaDias(self, num_dias):\n        if self._data_hora:\n            data_hora_somada = self._data_hora + datetime.timedelta(days=num_dias)\n            return data_hora_somada.strftime(self.FORMAT)\n        else:\n            raise ValueError(\"A data_hora não foi definida ainda.\")\n\n\n# Classe EventoABC\nfrom abc import ABC, abstractmethod\n\nclass EventoABC(ABC):\n\n    def __init__(self, titulo, descricao):\n        self._titulo = titulo\n        self._descricao = descricao\n\n    @abstractmethod\n    def __str__(self):\n        pass\n\n    @abstractmethod\n    def isConcluido(self):\n        pass\n\n\n# Classe EventoUnico que herda de EventoABC\nclass EventoUnico(EventoABC):\n    \n    def __init__(self, titulo, descricao, data_hora):\n        super().__init__(titulo, descricao)\n        self._data_hora = DataHora()\n        self._data_hora.data_hora = data_hora  # Usando a propriedade para definir a data\n\n    def isConcluido(self):\n        return self._data_hora.isPassado()\n\n    def __str__(self):\n        return f\"Evento: {self._titulo}, Data: {self._data_hora.data_hora}, Descrição: {self._descricao}, Concluido: {self.isConcluido()}\"\n\n    def editar_data_hora(self, nova_data):\n        self._data_hora.data_hora = nova_data  # Usando a propriedade para alterar a data\n\n\n# Testando a classe EventoUnico\n\n# criar evento\nevento = EventoUnico('Reunião', 'Sala 302, prédio da esquina', '05/10/2023, 16:30')\nprint(evento)\n\n# editar data do evento (através da propriedade)\nevento.editar_data_hora('05/10/2024, 16:30')\nprint(evento)\n",
      "metadata": {
        "vscode": {
          "languageId": "plaintext"
        },
        "trusted": true
      },
      "outputs": [
        {
          "name": "stdout",
          "text": "Evento: Reunião, Data: 05/10/2023, 16:30, Descrição: Sala 302, prédio da esquina, Concluido: True\nEvento: Reunião, Data: 05/10/2024, 16:30, Descrição: Sala 302, prédio da esquina, Concluido: True\n",
          "output_type": "stream"
        }
      ],
      "execution_count": 3
    },
    {
      "cell_type": "markdown",
      "source": "#### Q3.\nCrie a classe `EventoRecorrente`:\n* A classe deve herdar de `EventoABC`.\n* Possui como atributo próprio uma lista privada de objetos `DataHora` (como você deve nomear o atributo?).\n* Seu construtor recebe os atributos da superclasse, além dos atributos `data_hora_inicial` (string formatada), `data_hora_final` (string formatada) e `intervalo_repeticao` (int), sendo o intervalo dado em dias. Preencha a coleção `DataHora` de acordo com o intervalo de repetição fornecido. Dica: crie o objeto `DataHora` inicial e use sua função interna `somaDias` para criar iterativamente as novas instâncias do intervalo até chegar em `DataHora` final. \n*  Implementa os métodos abstratos da superclasse:\n    * Método `isConcluido(indice)` que que invoca o método `isPassado()` do elemento `indice` da coleção de objetos `DataHora` e retorna seu resultado. \n    * Método `__str__` que imprime (em um laço) **todos as ocorrências `i` do evento** na forma `\"Evento: _titulo, Data: data_hora[i], Descrição: _descricao, Concluido: isConcluido(i)\"`. \n* Crie o método `editar_data_hora` que recebe `data_hora_antiga` e `data_hora_nova` e altera o elemento da coleção de objetos `DataHora` que corresponde a `data_hora_antiga` fornecida.    \n\n\nTeste a classe `EventoRecorrente` com o seguinte código:\n```python\n# criar evento\neventos = EventoRecorrente(\n    'Reunião', 'Sala 302, prédio da esquina', \n    '05/01/2024, 16:30', '05/01/2025, 16:30', 30)\n\n# imprimir eventos\nprint(eventos)\n\n# editar um dos eventos\neventos.editar_data_hora('05/12/2024, 16:30', '05/12/2024, 11:30')\n\n# imprimir eventos\nprint(eventos)\n```",
      "metadata": {}
    },
    {
      "cell_type": "code",
      "source": "import datetime\n\n# Classe DataHora já criada\nclass DataHora:\n    FORMAT = '%d/%m/%Y, %H:%M'\n\n    def __init__(self):\n        self._data_hora = None\n\n    @property\n    def data_hora(self):\n        return self._data_hora.strftime(self.FORMAT) if self._data_hora else None\n\n    @data_hora.setter\n    def data_hora(self, data_str):\n        try:\n            self._data_hora = datetime.datetime.strptime(data_str, self.FORMAT)\n        except ValueError:\n            raise ValueError(f\"Formato inválido! A data deve seguir o formato: {self.FORMAT}\")\n\n    def isPassado(self):\n        return self._data_hora < datetime.datetime.now() if self._data_hora else False\n\n    def somaDias(self, num_dias):\n        if self._data_hora:\n            data_hora_somada = self._data_hora + datetime.timedelta(days=num_dias)\n            return data_hora_somada.strftime(self.FORMAT)\n        else:\n            raise ValueError(\"A data_hora não foi definida ainda.\")\n\n\n# Classe EventoABC\nfrom abc import ABC, abstractmethod\n\nclass EventoABC(ABC):\n\n    def __init__(self, titulo, descricao):\n        self._titulo = titulo\n        self._descricao = descricao\n\n    @abstractmethod\n    def __str__(self):\n        pass\n\n    @abstractmethod\n    def isConcluido(self, indice):\n        pass\n\n\n# Classe EventoRecorrente que herda de EventoABC\nclass EventoRecorrente(EventoABC):\n\n    def __init__(self, titulo, descricao, data_hora_inicial, data_hora_final, intervalo_repeticao):\n        super().__init__(titulo, descricao)\n        self._eventos = []  # Lista privada de objetos DataHora\n        self._criar_eventos(data_hora_inicial, data_hora_final, intervalo_repeticao)\n\n    def _criar_eventos(self, data_hora_inicial, data_hora_final, intervalo_repeticao):\n        # Criando a data inicial\n        data_inicial = DataHora()\n        data_inicial.data_hora = data_hora_inicial\n        data_atual = data_inicial._data_hora\n        \n        # Criando a lista de eventos de acordo com o intervalo\n        while data_atual <= datetime.datetime.strptime(data_hora_final, DataHora.FORMAT):\n            evento = DataHora()\n            evento.data_hora = data_atual.strftime(DataHora.FORMAT)\n            self._eventos.append(evento)\n            # Avançar para a próxima data com o intervalo de repetição\n            data_atual += datetime.timedelta(days=intervalo_repeticao)\n\n    def isConcluido(self, indice):\n        return self._eventos[indice].isPassado()\n\n    def __str__(self):\n        evento_str = \"\"\n        for i, evento in enumerate(self._eventos):\n            evento_str += f\"Evento: {self._titulo}, Data: {evento.data_hora}, Descrição: {self._descricao}, Concluido: {self.isConcluido(i)}\\n\"\n        return evento_str\n\n    def editar_data_hora(self, data_hora_antiga, data_hora_nova):\n        # Encontra o evento com a data antiga e altera para a nova\n        for evento in self._eventos:\n            if evento.data_hora == data_hora_antiga:\n                evento.data_hora = data_hora_nova\n                break\n\n\n# Testando a classe EventoRecorrente\n\n# Criar evento recorrente\neventos = EventoRecorrente(\n    'Reunião', 'Sala 302, prédio da esquina', \n    '05/01/2024, 16:30', '05/01/2025, 16:30', 30)\n\n# Imprimir eventos\nprint(eventos)\n\n# Editar um dos eventos\neventos.editar_data_hora('05/12/2024, 16:30', '05/12/2024, 11:30')\n\n# Imprimir eventos após a edição\nprint(eventos)\n",
      "metadata": {
        "vscode": {
          "languageId": "plaintext"
        },
        "trusted": true
      },
      "outputs": [
        {
          "name": "stdout",
          "text": "Evento: Reunião, Data: 05/01/2024, 16:30, Descrição: Sala 302, prédio da esquina, Concluido: True\nEvento: Reunião, Data: 04/02/2024, 16:30, Descrição: Sala 302, prédio da esquina, Concluido: True\nEvento: Reunião, Data: 05/03/2024, 16:30, Descrição: Sala 302, prédio da esquina, Concluido: True\nEvento: Reunião, Data: 04/04/2024, 16:30, Descrição: Sala 302, prédio da esquina, Concluido: True\nEvento: Reunião, Data: 04/05/2024, 16:30, Descrição: Sala 302, prédio da esquina, Concluido: True\nEvento: Reunião, Data: 03/06/2024, 16:30, Descrição: Sala 302, prédio da esquina, Concluido: True\nEvento: Reunião, Data: 03/07/2024, 16:30, Descrição: Sala 302, prédio da esquina, Concluido: True\nEvento: Reunião, Data: 02/08/2024, 16:30, Descrição: Sala 302, prédio da esquina, Concluido: True\nEvento: Reunião, Data: 01/09/2024, 16:30, Descrição: Sala 302, prédio da esquina, Concluido: True\nEvento: Reunião, Data: 01/10/2024, 16:30, Descrição: Sala 302, prédio da esquina, Concluido: True\nEvento: Reunião, Data: 31/10/2024, 16:30, Descrição: Sala 302, prédio da esquina, Concluido: True\nEvento: Reunião, Data: 30/11/2024, 16:30, Descrição: Sala 302, prédio da esquina, Concluido: False\nEvento: Reunião, Data: 30/12/2024, 16:30, Descrição: Sala 302, prédio da esquina, Concluido: False\n\nEvento: Reunião, Data: 05/01/2024, 16:30, Descrição: Sala 302, prédio da esquina, Concluido: True\nEvento: Reunião, Data: 04/02/2024, 16:30, Descrição: Sala 302, prédio da esquina, Concluido: True\nEvento: Reunião, Data: 05/03/2024, 16:30, Descrição: Sala 302, prédio da esquina, Concluido: True\nEvento: Reunião, Data: 04/04/2024, 16:30, Descrição: Sala 302, prédio da esquina, Concluido: True\nEvento: Reunião, Data: 04/05/2024, 16:30, Descrição: Sala 302, prédio da esquina, Concluido: True\nEvento: Reunião, Data: 03/06/2024, 16:30, Descrição: Sala 302, prédio da esquina, Concluido: True\nEvento: Reunião, Data: 03/07/2024, 16:30, Descrição: Sala 302, prédio da esquina, Concluido: True\nEvento: Reunião, Data: 02/08/2024, 16:30, Descrição: Sala 302, prédio da esquina, Concluido: True\nEvento: Reunião, Data: 01/09/2024, 16:30, Descrição: Sala 302, prédio da esquina, Concluido: True\nEvento: Reunião, Data: 01/10/2024, 16:30, Descrição: Sala 302, prédio da esquina, Concluido: True\nEvento: Reunião, Data: 31/10/2024, 16:30, Descrição: Sala 302, prédio da esquina, Concluido: True\nEvento: Reunião, Data: 30/11/2024, 16:30, Descrição: Sala 302, prédio da esquina, Concluido: False\nEvento: Reunião, Data: 30/12/2024, 16:30, Descrição: Sala 302, prédio da esquina, Concluido: False\n\n",
          "output_type": "stream"
        }
      ],
      "execution_count": 4
    },
    {
      "cell_type": "markdown",
      "source": "#### Q4.\n\nPor fim, vamos só ver o polimorfismo em ação. Crie e preencha uma lista de eventos, sendo alguns do tipo `EventoUnico` e outros do tipo `EventoRecorrente`. Sobre essa lista, execute o laço de impressão a seguir:\n```python\nfor evento in lista_eventos: print(evento)\n```\nA função `print` irá invocar o método especial `__str__` das classes correspondentes dependendo do tipo do objeto recebido. Aí está o polimorfismo :)",
      "metadata": {}
    },
    {
      "cell_type": "code",
      "source": "import datetime\n\n# Classe DataHora já criada\nclass DataHora:\n    FORMAT = '%d/%m/%Y, %H:%M'\n\n    def __init__(self):\n        self._data_hora = None\n\n    @property\n    def data_hora(self):\n        return self._data_hora.strftime(self.FORMAT) if self._data_hora else None\n\n    @data_hora.setter\n    def data_hora(self, data_str):\n        try:\n            self._data_hora = datetime.datetime.strptime(data_str, self.FORMAT)\n        except ValueError:\n            raise ValueError(f\"Formato inválido! A data deve seguir o formato: {self.FORMAT}\")\n\n    def isPassado(self):\n        return self._data_hora < datetime.datetime.now() if self._data_hora else False\n\n    def somaDias(self, num_dias):\n        if self._data_hora:\n            data_hora_somada = self._data_hora + datetime.timedelta(days=num_dias)\n            return data_hora_somada.strftime(self.FORMAT)\n        else:\n            raise ValueError(\"A data_hora não foi definida ainda.\")\n\n\n# Classe EventoABC\nfrom abc import ABC, abstractmethod\n\nclass EventoABC(ABC):\n\n    def __init__(self, titulo, descricao):\n        self._titulo = titulo\n        self._descricao = descricao\n\n    @abstractmethod\n    def __str__(self):\n        pass\n\n    @abstractmethod\n    def isConcluido(self):\n        pass\n\n\n# Classe EventoUnico que herda de EventoABC\nclass EventoUnico(EventoABC):\n\n    def __init__(self, titulo, descricao, data_hora):\n        super().__init__(titulo, descricao)\n        self._data_hora = DataHora()\n        self._data_hora.data_hora = data_hora\n\n    def isConcluido(self):\n        return self._data_hora.isPassado()\n\n    def __str__(self):\n        return f\"Evento: {self._titulo}, Data: {self._data_hora.data_hora}, Descrição: {self._descricao}, Concluido: {self.isConcluido()}\"\n\n\n# Classe EventoRecorrente que herda de EventoABC\nclass EventoRecorrente(EventoABC):\n\n    def __init__(self, titulo, descricao, data_hora_inicial, data_hora_final, intervalo_repeticao):\n        super().__init__(titulo, descricao)\n        self._eventos = []\n        self._criar_eventos(data_hora_inicial, data_hora_final, intervalo_repeticao)\n\n    def _criar_eventos(self, data_hora_inicial, data_hora_final, intervalo_repeticao):\n        data_inicial = DataHora()\n        data_inicial.data_hora = data_hora_inicial\n        data_atual = data_inicial._data_hora\n        \n        while data_atual <= datetime.datetime.strptime(data_hora_final, DataHora.FORMAT):\n            evento = DataHora()\n            evento.data_hora = data_atual.strftime(DataHora.FORMAT)\n            self._eventos.append(evento)\n            data_atual += datetime.timedelta(days=intervalo_repeticao)\n\n    def isConcluido(self):\n        return [evento.isPassado() for evento in self._eventos]\n\n    def __str__(self):\n        evento_str = \"\"\n        for i, evento in enumerate(self._eventos):\n            evento_str += f\"Evento: {self._titulo}, Data: {evento.data_hora}, Descrição: {self._descricao}, Concluido: {self.isConcluido()[i]}\\n\"\n        return evento_str\n\n\n# Criando uma lista de eventos, contendo tanto EventoUnico quanto EventoRecorrente\n\n# Evento único\nevento1 = EventoUnico('Reunião', 'Sala 302, prédio da esquina', '05/10/2023, 16:30')\n\n# Evento recorrente\nevento2 = EventoRecorrente('Reunião', 'Sala 302, prédio da esquina', '05/01/2024, 16:30', '05/01/2025, 16:30', 30)\n\n# Lista de eventos\nlista_eventos = [evento1, evento2]\n\n# Imprimir todos os eventos usando polimorfismo\nfor evento in lista_eventos:\n    print(evento)\n",
      "metadata": {
        "vscode": {
          "languageId": "plaintext"
        },
        "trusted": true
      },
      "outputs": [
        {
          "name": "stdout",
          "text": "Evento: Reunião, Data: 05/10/2023, 16:30, Descrição: Sala 302, prédio da esquina, Concluido: True\nEvento: Reunião, Data: 05/01/2024, 16:30, Descrição: Sala 302, prédio da esquina, Concluido: True\nEvento: Reunião, Data: 04/02/2024, 16:30, Descrição: Sala 302, prédio da esquina, Concluido: True\nEvento: Reunião, Data: 05/03/2024, 16:30, Descrição: Sala 302, prédio da esquina, Concluido: True\nEvento: Reunião, Data: 04/04/2024, 16:30, Descrição: Sala 302, prédio da esquina, Concluido: True\nEvento: Reunião, Data: 04/05/2024, 16:30, Descrição: Sala 302, prédio da esquina, Concluido: True\nEvento: Reunião, Data: 03/06/2024, 16:30, Descrição: Sala 302, prédio da esquina, Concluido: True\nEvento: Reunião, Data: 03/07/2024, 16:30, Descrição: Sala 302, prédio da esquina, Concluido: True\nEvento: Reunião, Data: 02/08/2024, 16:30, Descrição: Sala 302, prédio da esquina, Concluido: True\nEvento: Reunião, Data: 01/09/2024, 16:30, Descrição: Sala 302, prédio da esquina, Concluido: True\nEvento: Reunião, Data: 01/10/2024, 16:30, Descrição: Sala 302, prédio da esquina, Concluido: True\nEvento: Reunião, Data: 31/10/2024, 16:30, Descrição: Sala 302, prédio da esquina, Concluido: True\nEvento: Reunião, Data: 30/11/2024, 16:30, Descrição: Sala 302, prédio da esquina, Concluido: False\nEvento: Reunião, Data: 30/12/2024, 16:30, Descrição: Sala 302, prédio da esquina, Concluido: False\n\n",
          "output_type": "stream"
        }
      ],
      "execution_count": 5
    },
    {
      "cell_type": "code",
      "source": "",
      "metadata": {
        "trusted": true
      },
      "outputs": [],
      "execution_count": null
    }
  ]
}