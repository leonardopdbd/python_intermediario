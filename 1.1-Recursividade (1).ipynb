{
  "metadata": {
    "kernelspec": {
      "name": "python",
      "display_name": "Python (Pyodide)",
      "language": "python"
    },
    "language_info": {
      "codemirror_mode": {
        "name": "python",
        "version": 3
      },
      "file_extension": ".py",
      "mimetype": "text/x-python",
      "name": "python",
      "nbconvert_exporter": "python",
      "pygments_lexer": "ipython3",
      "version": "3.8"
    }
  },
  "nbformat_minor": 5,
  "nbformat": 4,
  "cells": [
    {
      "id": "c87bc264",
      "cell_type": "markdown",
      "source": "> Projeto Desenvolve <br>\nProgramação Intermediária com Python <br>\nProfa. Camila Laranjeira (mila@projetodesenvolve.com.br) <br>\n\n# 1.1 - Recursividade",
      "metadata": {}
    },
    {
      "id": "02e47197",
      "cell_type": "markdown",
      "source": "## Exercícios:\n\n#### **Q1**. \nFaça um procedimento recursivo que receba dois valores inteiros `a` e `b` e imprime o intervalo fechado entre eles. Se `a > b` imprima uma mensagem de erro.\n\n| Entrada |  Saída |\n| ------- | ------ |\n| 1 10    | 1 2 3 4 5 6 7 8 9 10 |\n| -5 1    | -5 -4 -3 -2 -1 |\n| 5 -5    | Valores invalidos |\n| 17 20   | 17 18 19 20 |",
      "metadata": {}
    },
    {
      "id": "e89a9966",
      "cell_type": "code",
      "source": "def imprime_intervalo(a, b):\n    if a > b:\n        print(\"Valores inválidos\")\n    else:\n        print(a, end=\" \")\n        if a < b:\n            imprime_intervalo(a + 1, b)\n\n\nimprime_intervalo(1, 10)  \nprint()  \nimprime_intervalo(-5, 1)  \nprint()  \nimprime_intervalo(5, -5)  \nprint()  \nimprime_intervalo(17, 20)  ",
      "metadata": {},
      "outputs": [],
      "execution_count": null
    },
    {
      "id": "b48196ed",
      "cell_type": "markdown",
      "source": "---\n\n\n#### **Q2**. \nMudando **apenas uma linha**, altere o código anterior para imprimir o intervalo invertido.\n\n| Entrada |  Saída |\n| ------- | ------ |\n| 1 10    | 10 9 8 7 6 5 4 3 2 1 |\n| -5 1    | -1 -2 -3 -4 -5 |\n| 5 -5    | Valores invalidos |\n| 17 20   | 20 19 18 17 |",
      "metadata": {}
    },
    {
      "id": "4d0c21b4",
      "cell_type": "code",
      "source": "def imprime_intervalo(a, b):\n    if a > b:\n        print(\"Valores inválidos\")\n    else:\n        print(b, end=\" \")  \n        if a < b:\n            imprime_intervalo(a, b - 1)\n\n\nimprime_intervalo(1, 10)  \nprint()  \nimprime_intervalo(-5, 1)  \nprint()  \nimprime_intervalo(5, -5)  \nprint()  \nimprime_intervalo(17, 20)  \n",
      "metadata": {},
      "outputs": [],
      "execution_count": null
    },
    {
      "id": "be727074",
      "cell_type": "markdown",
      "source": "\n\n---\n\n\n#### **Q3**. \nEscreva uma função recursiva que recebe um inteiro `n > 1` e calcula a soma dos valores entre `n` e `1`.\n\n| Entrada |  Saída |\n| ------- | ------ |\n| 5   | 15 |\n| 13  | 78 |",
      "metadata": {}
    },
    {
      "id": "c4da98b8",
      "cell_type": "code",
      "source": "def soma_recursiva(n):\n    if n <= 1:\n        return 1 \n    else:\n        return n + soma_recursiva(n - 1)  \n\n\nprint(soma_recursiva(5))  \nprint(soma_recursiva(13)) \n",
      "metadata": {},
      "outputs": [],
      "execution_count": null
    },
    {
      "id": "4142b276",
      "cell_type": "markdown",
      "source": "\n\n---\n\n\n#### **Q4**.  \n\nEscreva uma função recursiva que recebe um inteiro `n` e verifica se `n`é um valor primo, ou seja, se é divisível apenas por si mesmo e por `1`.",
      "metadata": {}
    },
    {
      "id": "4c96eb2d",
      "cell_type": "code",
      "source": "def eh_primo_recursivo(n, divisor=None):\n    if divisor is None:  \n        divisor = n - 1\n\n    if n <= 1:\n        return False  \n    if divisor == 1:\n        return True  \n    if n % divisor == 0:\n        return False  \n    return eh_primo_recursivo(n, divisor - 1)  \n\n\nprint(eh_primo_recursivo(5))   \nprint(eh_primo_recursivo(10))  \nprint(eh_primo_recursivo(13))  \nprint(eh_primo_recursivo(1))   ",
      "metadata": {},
      "outputs": [],
      "execution_count": null
    },
    {
      "id": "2a0ae81c",
      "cell_type": "markdown",
      "source": "\n\n---\n\n\n#### **Q5**. \nImplemente uma função recursiva que recebe um número inteiro decimal e retorna sua representação binária como uma string. Para realizar essa conversão, utilize o método de divisão sucessiva, onde você divide o número decimal por 2 e coleta os restos até que o quociente seja zero. A ordem dos restos coletados, de baixo para cima, forma o número binário correspondente.\n\n**Exemplo de Conversão:**\n\nPara converter o número decimal 13 para binário:\n```\n13 ÷ 2 = 6, resto 1\n6 ÷ 2 = 3, resto 0\n3 ÷ 2 = 1, resto 1\n1 ÷ 2 = 0, resto 1\n```\nLendo os restos de baixo para cima, obtemos o número binário `1101`.",
      "metadata": {}
    },
    {
      "id": "a7d954f0",
      "cell_type": "code",
      "source": "def decimal_para_binario(n):\n    if n == 0:\n        return \"0\"\n    elif n == 1:\n        return \"1\"\n    else:\n        return decimal_para_binario(n // 2) + str(n % 2)\n\n\nprint(decimal_para_binario(13))  # Saída: 1101\nprint(decimal_para_binario(10))  # Saída: 1010\nprint(decimal_para_binario(2))   # Saída: 10\nprint(decimal_para_binario(0))   # Saída: 0",
      "metadata": {},
      "outputs": [],
      "execution_count": null
    },
    {
      "id": "0f500709",
      "cell_type": "markdown",
      "source": "\n\n---\n\n\n#### **Extra**: \n\nImplemente uma função recursiva em Python que realiza a travessia em pré-ordem de uma árvore binária representada por listas aninhadas. Na travessia em pré-ordem (ou pré-fixada), o nó raiz é visitado primeiro, seguido pela subárvore esquerda e, por fim, pela subárvore direita. A questão fixa as constantes `RAIZ_IDX, ESQ_IDX, DIR_IDX` representando os índices da lista onde se encontra o valor raíz, o nó a esquerda e o nó a direita.\n\n```\n# Representação visual da árvore\n       4\n      / \\\n     2   5\n    / \\\n   1   3\n```",
      "metadata": {}
    },
    {
      "id": "10df4831",
      "cell_type": "code",
      "source": "\nRAIZ_IDX, ESQ_IDX, DIR_IDX = 0, 1, 2\n\ndef pre_ordem(arvore):\n    if arvore is None:  # Se a árvore for None, não há nada para processar\n        return\n    \n    # Primeiro, imprime o nó raiz (RAIZ_IDX)\n    print(arvore[RAIZ_IDX], end=\" \")\n    \n    # Depois, realiza a travessia na subárvore esquerda (ESQ_IDX)\n    if arvore[ESQ_IDX] is not None:\n        pre_ordem(arvore[ESQ_IDX])\n    \n    # Finalmente, realiza a travessia na subárvore direita (DIR_IDX)\n    if arvore[DIR_IDX] is not None:\n        pre_ordem(arvore[DIR_IDX])\n\n\narvore = [\n    4,              # raiz, nível 0\n    [               # ramo da esquerda, nível 1\n        2,          # valor filho esquerda\n        [1, None, None],   # ramo da esquerda, nível 2\n        [3, None, None]    # ramo da direita, nível 2\n    ],\n    [               # ramo da direita, nível 1\n        5,          # valor filho da direita\n        None,              # ramo da esquerda, nível 2\n        None               # ramo da direita, nível 2\n    ]\n]\n\npre_ordem(arvore)",
      "metadata": {},
      "outputs": [],
      "execution_count": null
    }
  ]
}