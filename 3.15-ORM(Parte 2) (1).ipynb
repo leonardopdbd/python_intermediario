{
  "metadata": {
    "kernelspec": {
      "name": "python",
      "display_name": "Python (Pyodide)",
      "language": "python"
    },
    "language_info": {
      "name": "python"
    }
  },
  "nbformat_minor": 4,
  "nbformat": 4,
  "cells": [
    {
      "cell_type": "markdown",
      "source": "## Exercícios\n\n> Retirados de [learn-python: sqlalchemy_orm-questions](https://aviadr1.github.io/learn-advanced-python/11_db_access/exercise/sqlalchemy_orm-questions.html).\n\n#### Q1.\n\nBaixa e extraia o arquivo compactado com o banco de dados [Chinook database](https://www.sqlitetutorial.net/sqlite-sample-database/). Salve o arquivo `chinook.db` na mesma pasta deste script.\n* Link para baixar: http://www.sqlitetutorial.net/wp-content/uploads/2018/03/chinook.zip\n\n<img width=500 src=https://www.sqlitetutorial.net/wp-content/uploads/2015/11/sqlite-sample-database-color.jpg>\n",
      "metadata": {}
    },
    {
      "cell_type": "markdown",
      "source": "#### Q2.\n\nLeia o código e os comentários das células a seguir para entender como acessamos os modelos ORM de um banco já existente.",
      "metadata": {}
    },
    {
      "cell_type": "code",
      "source": "from sqlalchemy import create_engine, text, MetaData\nfrom sqlalchemy.orm import Session\n\nengine = create_engine(\"sqlite+pysqlite:///chinook.db\", echo=False)\n\n### extrai as classes da base de dados Chinook\nmetadata = MetaData()\nmetadata.reflect(engine)\n\n# O metadata tem informações sobre as tabelas\n# que serão usadas para criar os modelos ORM\nfor table_name, table in metadata.tables.items():\n    print(table_name)\n    print(table.columns.keys())\n    print(table.columns.items())\n    print('-'*25)\n\n### configura o objeto Base mapeando os modelos ORM das tabelas\nfrom sqlalchemy.ext.automap import automap_base\nBase = automap_base(metadata=metadata)\nBase.prepare()\n\n# o objeto Base tem os modelos ORM que podemos usar\n# para manipular o banco de dados\nprint(Base.classes.items())",
      "metadata": {
        "vscode": {
          "languageId": "plaintext"
        }
      },
      "outputs": [],
      "execution_count": null
    },
    {
      "cell_type": "code",
      "source": "# A seguir um exemplo de query na tabela Albums\n# usamos o objeto Base para acessar cada modelo ORM.\n\nsession = Session(engine)\nres = session.scalars(select(Base.classes.albums))\nfirst_album = res.first()\nprint(first_album.AlbumId, first_album.Title)",
      "metadata": {
        "vscode": {
          "languageId": "plaintext"
        }
      },
      "outputs": [],
      "execution_count": null
    },
    {
      "cell_type": "markdown",
      "source": "#### Q3. \nCom base nos códigos anteriores realize as operações solicitadas nas células a seguir:\n",
      "metadata": {}
    },
    {
      "cell_type": "code",
      "source": "from sqlalchemy import select\n\nsession = Session(engine)\ntracks = session.execute(select(Base.classes.tracks).limit(3)).fetchall()\nfor track in tracks:\n    print(track)\n",
      "metadata": {
        "vscode": {
          "languageId": "plaintext"
        }
      },
      "outputs": [],
      "execution_count": null
    },
    {
      "cell_type": "code",
      "source": "from sqlalchemy import create_engine, MetaData, select\nfrom sqlalchemy.orm import Session\nfrom sqlalchemy.ext.automap import automap_base\n\n# Conectar ao banco de dados SQLite\nengine = create_engine(\"sqlite+pysqlite:///chinook.db\", echo=False)\n\n# Refletir a estrutura do banco de dados para carregar as tabelas\nmetadata = MetaData()\nmetadata.reflect(engine)\n\n# Mapear as tabelas como classes\nBase = automap_base(metadata=metadata)\nBase.prepare()\n\n# Criar uma sessão para consultar o banco de dados\nsession = Session(engine)\n\n# Imprimir o nome da faixa e o título do álbum das primeiras 20 faixas na tabela 'tracks'\ntracks_albums = session.execute(\n    select(Base.classes.tracks.Name, Base.classes.albums.Title)\n    .join(Base.classes.albums, Base.classes.tracks.AlbumId == Base.classes.albums.AlbumId)\n    .limit(20)\n).fetchall()\n\n# Exibir os resultados\nprint(\"Nome da faixa e título do álbum das primeiras 20 faixas:\")\nfor track_album in tracks_albums:\n    print(f\"Faixa: {track_album[0]}, Álbum: {track_album[1]}\")\n\n# Fechar a sessão\nsession.close()\n",
      "metadata": {
        "vscode": {
          "languageId": "plaintext"
        }
      },
      "outputs": [],
      "execution_count": null
    },
    {
      "cell_type": "code",
      "source": "from sqlalchemy import create_engine, MetaData, select\nfrom sqlalchemy.orm import Session\nfrom sqlalchemy.ext.automap import automap_base\n\n# Conectar ao banco de dados SQLite\nengine = create_engine(\"sqlite+pysqlite:///chinook.db\", echo=False)\n\n# Refletir a estrutura do banco de dados para carregar as tabelas\nmetadata = MetaData()\nmetadata.reflect(engine)\n\n# Mapear as tabelas como classes\nBase = automap_base(metadata=metadata)\nBase.prepare()\n\n# Criar uma sessão para consultar o banco de dados\nsession = Session(engine)\n\n# Imprimir os nomes das faixas vendidas e a quantidade vendida das 10 primeiras vendas\ninvoice_items_tracks = session.execute(\n    select(Base.classes.tracks.Name, Base.classes.invoice_items.Quantity)\n    .join(Base.classes.tracks, Base.classes.invoice_items.TrackId == Base.classes.tracks.TrackId)\n    .limit(10)\n).fetchall()\n\n# Exibir os resultados\nprint(\"Nomes das faixas vendidas e a quantidade vendida das 10 primeiras vendas:\")\nfor track_item in invoice_items_tracks:\n    print(f\"Faixa: {track_item[0]}, Quantidade Vendida: {track_item[1]}\")\n\n# Fechar a sessão\nsession.close()\n\n",
      "metadata": {
        "vscode": {
          "languageId": "plaintext"
        }
      },
      "outputs": [],
      "execution_count": null
    },
    {
      "cell_type": "code",
      "source": "from sqlalchemy import create_engine, MetaData, select, func\nfrom sqlalchemy.orm import Session\nfrom sqlalchemy.ext.automap import automap_base\n\n# Conectar ao banco de dados SQLite\nengine = create_engine(\"sqlite+pysqlite:///chinook.db\", echo=False)\n\n# Refletir a estrutura do banco de dados para carregar as tabelas\nmetadata = MetaData()\nmetadata.reflect(engine)\n\n# Mapear as tabelas como classes\nBase = automap_base(metadata=metadata)\nBase.prepare()\n\n# Criar uma sessão para consultar o banco de dados\nsession = Session(engine)\n\n# Imprimir os nomes das 10 faixas mais vendidas e a quantidade de vezes que foram vendidas\ntop_tracks = session.execute(\n    select(Base.classes.tracks.Name, func.sum(Base.classes.invoice_items.Quantity).label('Total_Vendido'))\n    .join(Base.classes.invoice_items, Base.classes.tracks.TrackId == Base.classes.invoice_items.TrackId)\n    .group_by(Base.classes.tracks.TrackId)\n    .order_by(func.sum(Base.classes.invoice_items.Quantity).desc())\n    .limit(10)\n).fetchall()\n\n# Exibir os resultados\nprint(\"Top 10 faixas mais vendidas e a quantidade vendida:\")\nfor track in top_tracks:\n    print(f\"Faixa: {track[0]}, Quantidade Vendida: {track[1]}\")\n\n# Fechar a sessão\nsession.close()\n",
      "metadata": {
        "vscode": {
          "languageId": "plaintext"
        }
      },
      "outputs": [],
      "execution_count": null
    },
    {
      "cell_type": "code",
      "source": "from sqlalchemy import create_engine, MetaData, select, func\nfrom sqlalchemy.orm import Session\nfrom sqlalchemy.ext.automap import automap_base\n\n# Conectar ao banco de dados SQLite\nengine = create_engine(\"sqlite+pysqlite:///chinook.db\", echo=False)\n\n# Refletir a estrutura do banco de dados para carregar as tabelas\nmetadata = MetaData()\nmetadata.reflect(engine)\n\n# Mapear as tabelas como classes\nBase = automap_base(metadata=metadata)\nBase.prepare()\n\n# Criar uma sessão para consultar o banco de dados\nsession = Session(engine)\n\n# Imprimir os 10 artistas que mais venderam\ntop_artists = session.execute(\n    select(Base.classes.artists.Name, func.sum(Base.classes.invoice_items.Quantity).label('Total_Vendido'))\n    .join(Base.classes.tracks, Base.classes.invoice_items.TrackId == Base.classes.tracks.TrackId)\n    .join(Base.classes.albums, Base.classes.tracks.AlbumId == Base.classes.albums.AlbumId)\n    .join(Base.classes.artists, Base.classes.albums.ArtistId == Base.classes.artists.ArtistId)\n    .group_by(Base.classes.artists.ArtistId)\n    .order_by(func.sum(Base.classes.invoice_items.Quantity).desc())\n    .limit(10)\n).fetchall()\n\n# Exibir os resultados\nprint(\"Top 10 artistas que mais venderam:\")\nfor artist in top_artists:\n    print(f\"Artista: {artist[0]}, Quantidade Vendida: {artist[1]}\")\n\n# Fechar a sessão\nsession.close()\n",
      "metadata": {
        "vscode": {
          "languageId": "plaintext"
        },
        "trusted": true
      },
      "outputs": [],
      "execution_count": null
    },
    {
      "cell_type": "code",
      "source": "",
      "metadata": {
        "trusted": true
      },
      "outputs": [],
      "execution_count": null
    },
    {
      "cell_type": "code",
      "source": "",
      "metadata": {
        "trusted": true
      },
      "outputs": [],
      "execution_count": null
    },
    {
      "cell_type": "code",
      "source": "",
      "metadata": {
        "trusted": true
      },
      "outputs": [],
      "execution_count": null
    }
  ]
}