{
  "metadata": {
    "kernelspec": {
      "name": "python",
      "display_name": "Python (Pyodide)",
      "language": "python"
    },
    "language_info": {
      "codemirror_mode": {
        "name": "python",
        "version": 3
      },
      "file_extension": ".py",
      "mimetype": "text/x-python",
      "name": "python",
      "nbconvert_exporter": "python",
      "pygments_lexer": "ipython3",
      "version": "3.8"
    }
  },
  "nbformat_minor": 4,
  "nbformat": 4,
  "cells": [
    {
      "cell_type": "markdown",
      "source": "> Projeto Desenvolve <br>\nProgramação Intermediária com Python <br>\nProfa. Camila Laranjeira (mila@projetodesenvolve.com.br) <br>\n\n# 3.14 - ORM",
      "metadata": {}
    },
    {
      "cell_type": "markdown",
      "source": "## Exercícios\n\n#### Q1. Conhecendo os dados\nBaixe o seguinte csv onde iremos trabalhar. Ele contém informações sobre salários de profissionais de dados de uma empresa hipotética entre 2009 e 2016\n* https://github.com/camilalaranjeira/python-intermediario/blob/main/salaries.csv\n\nSuas colunas, descritas na [página do Kaggle que contém o dataset](https://www.kaggle.com/datasets/krishujeniya/salary-prediction-of-data-professions?resource=download), são:\n* FIRST NAME: Primeiro nome do profissional de dados (String)\n* LAST NAME: Sobrenome do profissional de dados (String)\n* SEX: Gênero do profissional de dados (String: 'F' para Feminino, 'M' para Masculino)\n* DOJ (Date of Joining): A data em que o profissional de dados ingressou na empresa (Data no formato MM/DD/AAAA)\n* CURRENT DATE: A data atual ou a data de referência dos dados (Data no formato MM/DD/AAAA)\n* DESIGNATION: O cargo ou designação do profissional de dados (String: ex., Analista, Analista Sênior, Gerente)\n* AGE: Idade do profissional de dados (Integer)\n* SALARY: Salário anual do profissional de dados (Float)\n* UNIT: Unidade de negócios ou departamento em que o profissional de dados trabalha (String: ex., TI, Finanças, Marketing)\n* LEAVES USED: Número de licenças utilizadas pelo profissional de dados (Integer)\n* LEAVES REMAINING: Número de licenças restantes para o profissional de dados (Integer)\n* RATINGS: Avaliações de desempenho do profissional de dados (Float)\n* PAST EXP: Experiência de trabalho anterior em anos antes de ingressar na empresa atual (Float)\n\nNa célula a seguir, **carregue os dados do CSV e dê uma olhada neles antes de seguir**.",
      "metadata": {}
    },
    {
      "cell_type": "code",
      "source": "import pandas as pd\n\n# Carregar o arquivo CSV\ndf = pd.read_csv(\"salaries.csv\")\n\n# Exibir as primeiras linhas\nprint(df.head())\n\n# Exibir informações sobre o DataFrame\nprint(df.info())\n",
      "metadata": {
        "vscode": {
          "languageId": "plaintext"
        },
        "trusted": true
      },
      "outputs": [
        {
          "name": "stdout",
          "text": "  FIRST NAME   LAST NAME SEX         DOJ CURRENT DATE DESIGNATION   AGE  \\\n0     TOMASA       ARMEN   F   5-18-2014   01-07-2016     Analyst  21.0   \n1      ANNIE         NaN   F         NaN   01-07-2016   Associate   NaN   \n2      OLIVE        ANCY   F   7-28-2014   01-07-2016     Analyst  21.0   \n3     CHERRY     AQUILAR   F  04-03-2013   01-07-2016     Analyst  22.0   \n4       LEON  ABOULAHOUD   M  11-20-2014   01-07-2016     Analyst   NaN   \n\n   SALARY        UNIT  LEAVES USED  LEAVES REMAINING  RATINGS  PAST EXP  \n0   44570     Finance         24.0               6.0      2.0         0  \n1   89207         Web          NaN              13.0      NaN         7  \n2   40955     Finance         23.0               7.0      3.0         0  \n3   45550          IT         22.0               8.0      3.0         0  \n4   43161  Operations         27.0               3.0      NaN         3  \n<class 'pandas.core.frame.DataFrame'>\nRangeIndex: 2639 entries, 0 to 2638\nData columns (total 13 columns):\n #   Column            Non-Null Count  Dtype  \n---  ------            --------------  -----  \n 0   FIRST NAME        2639 non-null   object \n 1   LAST NAME         2637 non-null   object \n 2   SEX               2639 non-null   object \n 3   DOJ               2638 non-null   object \n 4   CURRENT DATE      2639 non-null   object \n 5   DESIGNATION       2639 non-null   object \n 6   AGE               2636 non-null   float64\n 7   SALARY            2639 non-null   int64  \n 8   UNIT              2639 non-null   object \n 9   LEAVES USED       2636 non-null   float64\n 10  LEAVES REMAINING  2637 non-null   float64\n 11  RATINGS           2637 non-null   float64\n 12  PAST EXP          2639 non-null   int64  \ndtypes: float64(4), int64(2), object(7)\nmemory usage: 195.9+ KB\nNone\n",
          "output_type": "stream"
        }
      ],
      "execution_count": 4
    },
    {
      "cell_type": "markdown",
      "source": "#### Q2. Modelando os dados\nVocê deve **criar um ORM com SQLAlchemy capaz de comportar os dados dessa base**.\n\n* Crie um campo de chave primária `ID`, que deve ser incrementado automaticamente\n* Os campos SEX, DESIGNATION e UNIT devem ser definidos como classes `Enum` com os possíveis valores (consulte os valores únicos dessas colunas)\n* Para os outros campos, consulte os tipos de dados informados na descrição acima",
      "metadata": {}
    },
    {
      "cell_type": "code",
      "source": "from sqlalchemy import (\n    create_engine,\n    Column,\n    Integer,\n    String,\n    Float,\n    Date,\n    Enum,\n)\nfrom sqlalchemy.ext.declarative import declarative_base\nfrom sqlalchemy.orm import sessionmaker\nimport enum\nimport pandas as pd\nfrom datetime import datetime\n\n# Definir a base do ORM\nBase = declarative_base()\n\n# Definir as Enums com os valores únicos\nclass SexEnum(enum.Enum):\n    F = \"F\"\n    M = \"M\"\n\nclass DesignationEnum(enum.Enum):\n    ANALYST = \"Analyst\"\n    SENIOR_ANALYST = \"Senior Analyst\"\n    MANAGER = \"Manager\"\n\nclass UnitEnum(enum.Enum):\n    IT = \"IT\"\n    FINANCE = \"Finance\"\n    MARKETING = \"Marketing\"\n\n# Definir o modelo para os dados\nclass Employee(Base):\n    __tablename__ = 'employees'\n\n    # Campos do modelo\n    id = Column(Integer, primary_key=True, autoincrement=True)\n    first_name = Column(String, nullable=False)\n    last_name = Column(String, nullable=False)\n    sex = Column(Enum(SexEnum), nullable=False)\n    doj = Column(Date, nullable=False)  # Data de ingresso\n    current_date = Column(Date, nullable=False)  # Data atual\n    designation = Column(Enum(DesignationEnum), nullable=False)\n    age = Column(Integer, nullable=False)\n    salary = Column(Float, nullable=False)\n    unit = Column(Enum(UnitEnum), nullable=False)\n    leaves_used = Column(Integer, nullable=False)\n    leaves_remaining = Column(Integer, nullable=False)\n    ratings = Column(Float, nullable=False)\n    past_exp = Column(Float, nullable=False)\n\n    def __repr__(self):\n        return f\"<Employee(name={self.first_name} {self.last_name}, designation={self.designation})>\"\n\n# Criar o banco de dados (SQLite como exemplo)\nengine = create_engine('sqlite:///employees.db')\n\n# Criar as tabelas no banco de dados\nBase.metadata.create_all(engine)\n\n# Criar uma sessão\nSession = sessionmaker(bind=engine)\nsession = Session()\n\n# Carregar o CSV\ndf = pd.read_csv(\"salaries.csv\")\n\n# Adicionar os dados ao banco\nfor _, row in df.iterrows():\n    employee = Employee(\n        first_name=row[\"FIRST NAME\"],\n        last_name=row[\"LAST NAME\"],\n        sex=SexEnum(row[\"SEX\"]),\n        doj=datetime.strptime(row[\"DOJ\"], \"%m/%d/%Y\"),\n        current_date=datetime.strptime(row[\"CURRENT DATE\"], \"%m/%d/%Y\"),\n        designation=DesignationEnum(row[\"DESIGNATION\"].replace(\" \", \"_\").upper()),\n        age=row[\"AGE\"],\n        salary=row[\"SALARY\"],\n        unit=UnitEnum(row[\"UNIT\"].upper()),\n        leaves_used=row[\"LEAVES USED\"],\n        leaves_remaining=row[\"LEAVES REMAINING\"],\n        ratings=row[\"RATINGS\"],\n        past_exp=row[\"PAST EXP\"]\n    )\n    session.add(employee)\n\n# Confirmar as alterações\nsession.commit()\n\n# Consultar todos os funcionários\nemployees = session.query(Employee).all()\nfor emp in employees:\n    print(emp)\n",
      "metadata": {
        "vscode": {
          "languageId": "plaintext"
        },
        "trusted": true
      },
      "outputs": [],
      "execution_count": null
    },
    {
      "cell_type": "markdown",
      "source": "#### Q3. Estabelecendo uma conexão\n\nUsando o método `create_engine` do SQLAlchemy, crie uma conexão com um novo banco de dados SQLite chamado `salarios`.",
      "metadata": {
        "vscode": {
          "languageId": "plaintext"
        }
      }
    },
    {
      "cell_type": "code",
      "source": "from sqlalchemy import create_engine\n\n# Criar a conexão com o banco de dados SQLite chamado \"salarios\"\nengine = create_engine('sqlite:///salarios.db')\n\n# Testar a conexão\ntry:\n    connection = engine.connect()\n    print(\"Conexão com o banco de dados 'salarios' estabelecida com sucesso!\")\n    connection.close()\nexcept Exception as e:\n    print(f\"Erro ao conectar ao banco de dados: {e}\")\n",
      "metadata": {
        "vscode": {
          "languageId": "plaintext"
        },
        "trusted": true
      },
      "outputs": [],
      "execution_count": null
    },
    {
      "cell_type": "markdown",
      "source": "#### Q4. Criando as tabelas\nCrie as tabelas da questão Q2 no banco `salarios`.",
      "metadata": {}
    },
    {
      "cell_type": "code",
      "source": "from sqlalchemy import create_engine, Column, Integer, String, Float, Enum, Date\nfrom sqlalchemy.ext.declarative import declarative_base\nfrom sqlalchemy.orm import sessionmaker\nimport enum\n\n# Criar a conexão com o banco de dados SQLite chamado \"salarios\"\nengine = create_engine('sqlite:///salarios.db')\nBase = declarative_base()\n\n# Definir os Enums\nclass SexEnum(enum.Enum):\n    F = \"F\"\n    M = \"M\"\n\nclass DesignationEnum(enum.Enum):\n    ANALYST = \"Analyst\"\n    SENIOR_ANALYST = \"Senior Analyst\"\n    MANAGER = \"Manager\"\n\nclass UnitEnum(enum.Enum):\n    IT = \"IT\"\n    FINANCE = \"Finance\"\n    MARKETING = \"Marketing\"\n\n# Definir a tabela\nclass Employee(Base):\n    __tablename__ = 'employees'\n\n    id = Column(Integer, primary_key=True, autoincrement=True)\n    first_name = Column(String, nullable=False)\n    last_name = Column(String, nullable=False)\n    sex = Column(Enum(SexEnum), nullable=False)\n    doj = Column(Date, nullable=False)\n    current_date = Column(Date, nullable=False)\n    designation = Column(Enum(DesignationEnum), nullable=False)\n    age = Column(Integer, nullable=False)\n    salary = Column(Float, nullable=False)\n    unit = Column(Enum(UnitEnum), nullable=False)\n    leaves_used = Column(Integer, nullable=False)\n    leaves_remaining = Column(Integer, nullable=False)\n    ratings = Column(Float, nullable=False)\n    past_exp = Column(Float, nullable=False)\n\n# Criar as tabelas no banco de dados\nBase.metadata.create_all(engine)\n\nprint(\"Tabelas criadas com sucesso!\")\n",
      "metadata": {
        "vscode": {
          "languageId": "plaintext"
        },
        "trusted": true
      },
      "outputs": [],
      "execution_count": null
    },
    {
      "cell_type": "markdown",
      "source": "#### Q5. Populando\n\nUsando o método `to_sql` da biblioteca Pandas (veja [a documentação](https://pandas.pydata.org/docs/reference/api/pandas.DataFrame.to_sql.html)), popule o banco `salarios` com os dados do csv que você carregou na questão Q1.\n* Lembre-se de definir o parâmetro `if_exists='append'` para que as tabelas não sejam dropadas e recriadas.",
      "metadata": {}
    },
    {
      "cell_type": "code",
      "source": "import pandas as pd\nfrom sqlalchemy import create_engine\n\n# Caminho local do arquivo CSV (substitua pelo seu caminho)\ncsv_path = \"caminho/para/seu/arquivo/salaries.csv\"  # Altere para o caminho correto\n\n# Carregar os dados do CSV\ndf = pd.read_csv(csv_path)\n\n# Ajustar os valores para se adequarem às colunas ENUM\ndf['SEX'] = df['SEX'].map({\"F\": \"F\", \"M\": \"M\"})  # Garantir compatibilidade com o Enum\ndf['DESIGNATION'] = df['DESIGNATION'].map({\n    \"Analyst\": \"Analyst\", \n    \"Senior Analyst\": \"Senior Analyst\", \n    \"Manager\": \"Manager\"\n})\ndf['UNIT'] = df['UNIT'].map({\n    \"IT\": \"IT\", \n    \"Finance\": \"Finance\", \n    \"Marketing\": \"Marketing\"\n})\n\n# Criar a conexão com o banco de dados SQLite\nengine = create_engine('sqlite:///salarios.db')\n\n# Enviar os dados do DataFrame para a tabela employees no banco de dados\ndf.to_sql('employees', con=engine, if_exists='append', index=False)\n\n# Confirmar que os dados foram inseridos\nprint(\"Dados inseridos com sucesso no banco de dados 'salarios.db'!\")\n",
      "metadata": {
        "vscode": {
          "languageId": "plaintext"
        },
        "trusted": true
      },
      "outputs": [],
      "execution_count": null
    },
    {
      "cell_type": "markdown",
      "source": "#### Q6. Consultas SQL vs ORM\n\nAgrupe os dados por DESIGNATION e selecione o mínimo, máximo e a média dos salários (SALARY) divididos por 12. Já que o atributo SALARY é anual, dividir por 12 nos mostrará os valores mensais.\n\nAssumindo que a variável que armazena a sua conexão se chama `engine`, você deve realizar a query acima de três formas:\n* Executando a query SQL através de uma instância de conexão retornada pelo método `engine.connect()`\n* Executando a query SQL com o método `read_sql_query` do Pandas (veja [a documentação](https://pandas.pydata.org/docs/reference/api/pandas.read_sql_query.html)). Você usará mesma instância `engine.connect()` como um dos parâmetros.\n* Executando uma query criada com o módulo `select` do SQLAlchemy. Sua execução deve ser feita através de um objeto `Session` do módulo `orm` do SQLAlchemy (`Session(engine)`).\n",
      "metadata": {}
    },
    {
      "cell_type": "code",
      "source": "from sqlalchemy import create_engine\n\n# Criar a conexão com o banco de dados\nengine = create_engine('sqlite:///salarios.db')\n\n# Conexão com o banco\nwith engine.connect() as conn:\n    # Query SQL\n    query = \"\"\"\n    SELECT DESIGNATION, \n           MIN(SALARY) / 12 AS MIN_SALARY, \n           MAX(SALARY) / 12 AS MAX_SALARY, \n           AVG(SALARY) / 12 AS AVG_SALARY\n    FROM employees\n    GROUP BY DESIGNATION\n    \"\"\"\n    # Executar a query\n    result = conn.execute(query)\n    \n    # Exibir os resultados\n    for row in result:\n        print(row)\n",
      "metadata": {
        "vscode": {
          "languageId": "plaintext"
        }
      },
      "outputs": [],
      "execution_count": null
    },
    {
      "cell_type": "code",
      "source": "import pandas as pd\n\n# Query SQL\nquery = \"\"\"\nSELECT DESIGNATION, \n       MIN(SALARY) / 12 AS MIN_SALARY, \n       MAX(SALARY) / 12 AS MAX_SALARY, \n       AVG(SALARY) / 12 AS AVG_SALARY\nFROM employees\nGROUP BY DESIGNATION\n\"\"\"\n\n# Executar a query com pandas\ndf_sql = pd.read_sql_query(query, engine)\n\n# Exibir os resultados\nprint(df_sql)\n",
      "metadata": {
        "vscode": {
          "languageId": "plaintext"
        }
      },
      "outputs": [],
      "execution_count": null
    },
    {
      "cell_type": "code",
      "source": "from sqlalchemy.orm import sessionmaker\nfrom sqlalchemy import func\nfrom sqlalchemy import select\n\n# Criar uma sessão\nSession = sessionmaker(bind=engine)\nsession = Session()\n\n# Construir a query com SQLAlchemy ORM\nquery = (\n    select(\n        employees.c.DESIGNATION,\n        func.min(employees.c.SALARY) / 12,  # MIN(SALARY) / 12\n        func.max(employees.c.SALARY) / 12,  # MAX(SALARY) / 12\n        func.avg(employees.c.SALARY) / 12   # AVG(SALARY) / 12\n    )\n    .group_by(employees.c.DESIGNATION)\n)\n\n# Executar a query com ORM\nresult_orm = session.execute(query).fetchall()\n\n# Exibir os resultados\nfor row in result_orm:\n    print(row)\n\n# Fechar a sessão\nsession.close()\n",
      "metadata": {
        "vscode": {
          "languageId": "plaintext"
        }
      },
      "outputs": [],
      "execution_count": null
    },
    {
      "cell_type": "code",
      "source": "",
      "metadata": {
        "trusted": true
      },
      "outputs": [],
      "execution_count": null
    },
    {
      "cell_type": "code",
      "source": "",
      "metadata": {
        "trusted": true
      },
      "outputs": [],
      "execution_count": null
    }
  ]
}