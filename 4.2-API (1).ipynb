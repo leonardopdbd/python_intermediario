{
  "metadata": {
    "kernelspec": {
      "name": "python",
      "display_name": "Python (Pyodide)",
      "language": "python"
    },
    "language_info": {
      "name": "python"
    }
  },
  "nbformat_minor": 4,
  "nbformat": 4,
  "cells": [
    {
      "cell_type": "markdown",
      "source": "> Projeto Desenvolve <br>\nProgramação Intermediária com Python <br>\nProfa. Camila Laranjeira (mila@projetodesenvolve.com.br) <br>\n\n# 4.2 - APIs\n",
      "metadata": {}
    },
    {
      "cell_type": "markdown",
      "source": "## Exercícios 🔭🌌🪐\n\nVamos acessar as APIs da NASA para ver algumas imagens interessantes capturadas universo afora!\n\n#### Q1.\nCrie uma chave no site oficial:\n* https://api.nasa.gov\n\nVamos armazenar a chave de forma segura! <br>\nSalve a sua chave em um arquivo `key.json` na forma:\n`API_KEY=SUA_CHAVE`\n\nAdicione o nome do arquivo `key.json` ao `.gitignore` do repositório que você fará upload da atividade.\nPara isso basta abrir o arquivo `.gitignore` na pasta raíz do repositório (ou criar um caso ele não exista). Dentro do arquivo, apenas adiciona o nome do arquivo que deseja ignorar.",
      "metadata": {}
    },
    {
      "cell_type": "markdown",
      "source": "#### Q2. 🛰 Astronomy Picture of the Day (APOD) 🌌\n> Antes de fazer os exercícios, devo te lembrar que existem limites de acesso às APIs, descritas na página principal, portanto pega leve na tentativa e erro na hora de testar seu código.\n\n<img width=500 src=https://apod.nasa.gov/apod/image/2407/M24-HaLRGB-RC51_1024.jpg>\n\nA primeira API que acessaremos é a mais popular de todas: astronomy picture of the day (foto astronômica do dia).\n\nFaça uma requisição GET para a URL da API que retorna a imagem do dia! Essa é fácil já que são os valores padrão da rota principal:\n* URL base: `'https://api.nasa.gov/planetary/apod'`\n* Endpoint: não precisa preencher, acessaremos a raíz da API.\n* Query params: preencha `api_key` com a sua chave de autenticação. Se animar mexer em outros parâmetros veja [a documentação](https://api.nasa.gov).\n\nAo receber a resposta (um json), você deve:\n* Imprimir os campos `copyright` e `explanation`\n* Com as biblioteca scikit-images e matplotlib, apresente a imagem a partir do campo `url` ou `hdurl`, e preencha o título do plot com o campo `title` do json. Uma dica de código a seguir.\n```python\nfrom skimage import io\nimg = io.imread(url)\n## plot a matriz img com matplotlib (imshow)\n```   ",
      "metadata": {}
    },
    {
      "cell_type": "code",
      "source": "import requests\nimport json\nfrom skimage import io\nimport matplotlib.pyplot as plt\n\n# Carregar a chave de autenticação do arquivo key.json\ndef load_api_key():\n    with open(\"key.json\", \"r\") as file:\n        data = json.load(file)\n        return data[\"API_KEY\"]\n\n# Fazer a requisição GET para a API\ndef fetch_apod(api_key):\n    url = \"https://api.nasa.gov/planetary/apod\"\n    params = {\"api_key\": api_key}\n    response = requests.get(url, params=params)\n    if response.status_code == 200:\n        return response.json()\n    else:\n        raise Exception(f\"Erro ao acessar a API: {response.status_code}, {response.text}\")\n\n# Mostrar a imagem com matplotlib\ndef display_image(url, title):\n    img = io.imread(url)  # Carregar a imagem\n    plt.imshow(img)\n    plt.axis(\"off\")\n    plt.title(title, fontsize=16)\n    plt.show()\n\n# Fluxo principal\ntry:\n    api_key = load_api_key()  # Carregar chave da API\n    apod_data = fetch_apod(api_key)  # Buscar dados da API\n    \n    # Imprimir os campos copyright e explanation\n    print(\"Copyright:\", apod_data.get(\"copyright\", \"N/A\"))\n    print(\"Explanation:\", apod_data[\"explanation\"])\n    \n    # Exibir a imagem\n    image_url = apod_data.get(\"hdurl\") or apod_data[\"url\"]\n    display_image(image_url, apod_data[\"title\"])\n\nexcept Exception as e:\n    print(f\"Erro: {e}\")\n",
      "metadata": {},
      "outputs": [],
      "execution_count": null
    },
    {
      "cell_type": "markdown",
      "source": "#### Q3. Limites\nA partir da resposta da query anterios, imprima o header da resposta e consulte os atributos:\n* X-RateLimit-Limit: o limite total de requisições da sua chave de API\n* X-RateLimit-Remaining: o limite restante de requisições da sua chave de API",
      "metadata": {}
    },
    {
      "cell_type": "code",
      "source": "import requests\nimport json\n\n# Função para carregar a chave da API\ndef load_api_key():\n    with open(\"key.json\", \"r\") as file:\n        data = json.load(file)\n    return data[\"API_KEY\"]\n\n# Função para realizar a requisição GET e imprimir os cabeçalhos\ndef fetch_mars_photos_with_limits(api_key, rover_name, sol, page):\n    url = f'https://api.nasa.gov/mars-photos/api/v1/rovers/{rover_name}/photos'\n    params = {\n        'api_key': api_key,\n        'sol': sol,\n        'page': page\n    }\n    \n    response = requests.get(url, params=params)\n    \n    # Verificar se a requisição foi bem-sucedida\n    if response.status_code == 200:\n        # Imprimir os cabeçalhos de resposta\n        print(\"Cabeçalhos da resposta:\")\n        print(response.headers)\n        \n        # Imprimir os limites de requisição\n        rate_limit = response.headers.get('X-RateLimit-Limit')\n        rate_remaining = response.headers.get('X-RateLimit-Remaining')\n        \n        if rate_limit and rate_remaining:\n            print(f\"\\nLimite total de requisições: {rate_limit}\")\n            print(f\"Limite restante de requisições: {rate_remaining}\")\n        \n        # Retornar os dados da API\n        return response.json()\n    else:\n        print(f\"Erro na requisição: {response.status_code}\")\n        return None\n\n# Fluxo principal para testar a função\ndef main():\n    api_key = load_api_key()  # Carregar chave da API\n    rover_name = 'curiosity'  # Nome do rover\n    sol = 4102  # Sol desejado\n    page = 1  # Página inicial\n    \n    # Chamar a função e obter os dados\n    data = fetch_mars_photos_with_limits(api_key, rover_name, sol, page)\n    \n    if data:\n        # Aqui você pode continuar processando os dados da resposta, se necessário\n        print(f\"\\nFotos encontradas: {len(data['photos'])}\")\n    else:\n        print(\"Nenhuma foto encontrada.\")\n\nif __name__ == '__main__':\n    main()\n",
      "metadata": {},
      "outputs": [],
      "execution_count": null
    },
    {
      "cell_type": "markdown",
      "source": "### Q4. Mars Rover Photos 🚀🚙 📷\n\n<img width=500 src=https://www.nasa.gov/wp-content/uploads/2019/10/pia23378-16.jpg>\n\nEssa API retorna dados (incluindo imagens capturadas) sobre os veículos que hoje habitam o planeta Marte. São os rovers `opportunity`, `spirit` e o mais famoso, o `curiosity` (da foto acima).\n\nAntes de requisitar imagens, vamos ver o relatório de dados coletados por um deles, o `curiosity`. Isso vai nos ajudar a montar a query de imagens coletadas.\n\nFaça uma requisição GET para a seguinte URL:\n* URL base: `'https://api.nasa.gov/mars-photos/api/v1'`\n* endpoint: `'/manifests/{nome_do_rover}'`\n* query parameters: preencha `api_key` com a sua chave de autenticação.\n\nExtraia o json da resposta retornada. O campo principal é o `'photo_manifest'`, do qual queremos acessar os seguintes valores:\n* `max_sol`: Máximo \"dia marciano\" de coleta de fotos. O dia marciano tem 24 horas, 39 minutos e 35 segundos.\n* `max_date`: Última data terrestre de coleta de fotos, na forma `'aaaa-mm-dd'`.\n\nImprima esses dois atributos da resposta e os use no próximo exercício para coletar as fotos mais recentes tiradas. ",
      "metadata": {}
    },
    {
      "cell_type": "code",
      "source": "import requests\n\n# Função para carregar a chave da API do arquivo JSON\ndef load_api_key():\n    with open(\"key.json\", \"r\") as file:\n        data = json.load(file)\n    return data[\"API_KEY\"]\n\n# Função para fazer a requisição GET para a API\ndef fetch_apod(api_key):\n    url = \"https://api.nasa.gov/planetary/apod\"\n    params = {\"api_key\": api_key}\n    response = requests.get(url, params=params)\n\n    # Verificar se a requisição foi bem-sucedida\n    if response.status_code == 200:\n        # Imprimir os cabeçalhos\n        print(\"Cabeçalhos da resposta:\")\n        print(response.headers)\n\n        # Acessar os limites de requisição\n        rate_limit = response.headers.get('X-RateLimit-Limit')\n        rate_remaining = response.headers.get('X-RateLimit-Remaining')\n        print(f\"Limite total de requisições: {rate_limit}\")\n        print(f\"Limite restante de requisições: {rate_remaining}\")\n\n        return response.json()\n    else:\n        print(f\"Erro na requisição: {response.status_code}\")\n        return None\n\n# Fluxo principal\ntry:\n    api_key = load_api_key()  # Carregar chave da API\n    apod_data = fetch_apod(api_key)  # Buscar dados da API\n\n    # Exibir os dados da API (exemplo)\n    if apod_data:\n        print(\"Data da APOD:\", apod_data.get(\"date\"))\n        print(\"Título:\", apod_data.get(\"title\"))\n        print(\"Explicação:\", apod_data.get(\"explanation\"))\n        # Exibir a imagem (se disponível)\n        image_url = apod_data.get(\"hdurl\") or apod_data.get(\"url\")\n        print(\"URL da imagem:\", image_url)\n\nexcept Exception as e:\n    print(f\"Erro: {e}\")\n",
      "metadata": {},
      "outputs": [],
      "execution_count": null
    },
    {
      "cell_type": "markdown",
      "source": "#### Q5.\n\nFaça uma requisição GET para a URL da API que retorna links para as imagens coletadas pelos rovers.\n\n* URL base: `'https://api.nasa.gov/mars-photos/api/v1'`\n* Endpoint: `/rovers/{nome_do_rover}/photos`\n* Query params sugeridos: \n    * `api_key`: sua chave de autenticação.\n    * `sol`: dia marciano que deseja coletar (de 0 a `max_sol` coletado anteriormente)\n    * `page`: você pode paginar entre as respostas! São retornados 25 resultados por página.\n\nA resposta esperada estará no formato a seguir, uma lista no campo `'photos'` onde cada item é um dicionário com os dados da foto tirada. Dentre os dados há o campo `camera` indicando qual das câmeras do rover tirou a foto. As fotos mais interessantes (na minha opinião, claro) são das câmeras de navegação (`\"name\": \"NAVCAM\"`) e as de prevenção de colisão (frente: `\"name\": \"FHAZ\"` e trás `\"name\": \"RHAZ\"`) onde dá pra ver partes do robô!\n\n**Seu trabalho é**:\n* Paginar a requisição acima até que a resposta seja `None`\n* Escolher uma ou mais câmeras (ex: `NAVCAM`, `FHAZ`, `RHAZ`), e em um laço de repetição plotar todas as imagens retornadas daquela câmera. Use novamente as bibliotecas scikit-image e matplotlib. \n  * O título da imagem deve ter a página da requisição, nome da câmera e id da imagem.\n\n```json\n{\n  \"photos\": [\n    {\n      \"id\": 1228212,\n      \"sol\": 4102,\n      \"camera\": {\n        \"id\": 20,\n        \"name\": \"FHAZ\",\n        \"rover_id\": 5,\n        \"full_name\": \"Front Hazard Avoidance Camera\"\n      },\n      \"img_src\": \"https://mars.nasa.gov/msl-raw-images/proj/msl/redops/ods/surface/sol/04102/opgs/edr/fcam/FLB_761645828EDR_F1060660FHAZ00302M_.JPG\",\n      \"earth_date\": \"2024-02-19\",\n      \"rover\": {\n        \"id\": 5,\n        \"name\": \"Curiosity\",\n        ...\n      }\n    }\n    {\n      \"id\": 1228213,\n      \"sol\": 4102, \n      ...\n    }\n```\n\n",
      "metadata": {}
    },
    {
      "cell_type": "markdown",
      "source": "import requests\nimport matplotlib.pyplot as plt\nfrom skimage.io import imread\n\n# Função para carregar a chave da API\ndef load_api_key():\n    with open(\"key.json\", \"r\") as file:\n        data = json.load(file)\n    return data[\"API_KEY\"]\n\n# Função para buscar fotos dos rovers\ndef fetch_mars_photos(api_key, rover_name, sol, page):\n    url = f'https://api.nasa.gov/mars-photos/api/v1/rovers/{rover_name}/photos'\n    params = {\n        'api_key': api_key,\n        'sol': sol,\n        'page': page\n    }\n    response = requests.get(url, params=params)\n    \n    if response.status_code == 200:\n        return response.json()\n    else:\n        print(f\"Erro na requisição: {response.status_code}\")\n        return None\n\n# Função para exibir as imagens filtradas por câmera\ndef display_images(photos, camera_name, page):\n    # Filtrar fotos pela câmera desejada\n    filtered_photos = [photo for photo in photos if photo['camera']['name'] == camera_name]\n    \n    for photo in filtered_photos:\n        img_url = photo['img_src']\n        img = imread(img_url)\n        \n        # Título com o número da página, nome da câmera e id da imagem\n        title = f\"Page {page} - {camera_name} - ID {photo['id']}\"\n        \n        # Plotar a imagem\n        plt.figure(figsize=(8, 8))\n        plt.imshow(img)\n        plt.title(title)\n        plt.axis('off')\n        plt.show()\n\n# Fluxo principal para paginar e exibir as imagens\ndef main():\n    api_key = load_api_key()  # Carregar chave da API\n    rover_name = 'curiosity'  # Nome do rover (ex: curiosity)\n    sol = 4102  # Sol desejado (dia marciano)\n    page = 1  # Página inicial\n    \n    while True:\n        # Buscar fotos do rover na página atual\n        data = fetch_mars_photos(api_key, rover_name, sol, page)\n        \n        if data and 'photos' in data and len(data['photos']) > 0:\n            photos = data['photos']\n            \n            # Exibir imagens das câmeras NAVCAM, FHAZ, e RHAZ\n            for camera_name in ['NAVCAM', 'FHAZ', 'RHAZ']:\n                display_images(photos, camera_name, page)\n            \n            # Incrementar a página para próxima requisição\n            page += 1\n        else:\n            print(\"Nenhuma foto encontrada ou atingido o final das páginas.\")\n            break\n\nif __name__ == '__main__':\n    main()\n",
      "metadata": {}
    }
  ]
}